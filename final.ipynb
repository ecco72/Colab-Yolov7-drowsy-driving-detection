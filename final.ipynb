{
  "cells": [
    {
      "cell_type": "markdown",
      "metadata": {
        "id": "epRCENaeqQKL"
      },
      "source": [
        "# **1. 設定**"
      ]
    },
    {
      "cell_type": "markdown",
      "metadata": {
        "id": "7SiG_AHyMYwj"
      },
      "source": [
        "# 1.1 連線到 Google Drive"
      ]
    },
    {
      "cell_type": "code",
      "execution_count": null,
      "metadata": {
        "id": "lrqovzPXy-Z8",
        "colab": {
          "base_uri": "https://localhost:8080/"
        },
        "outputId": "42a7b11f-5c15-46eb-94c2-08898475e815"
      },
      "outputs": [
        {
          "output_type": "stream",
          "name": "stdout",
          "text": [
            "Mounted at /content/gdrive\n"
          ]
        }
      ],
      "source": [
        "from google.colab import drive\n",
        "drive.mount('/content/gdrive')"
      ]
    },
    {
      "cell_type": "markdown",
      "metadata": {
        "id": "SpqhrtjuMdOP"
      },
      "source": [
        "# 1.2 安裝YOLO v7 所需檔案及library"
      ]
    },
    {
      "cell_type": "code",
      "execution_count": null,
      "metadata": {
        "id": "ewvc51Je8iot",
        "colab": {
          "base_uri": "https://localhost:8080/"
        },
        "outputId": "c456d33d-7b31-4de9-b878-5b72716ff230"
      },
      "outputs": [
        {
          "output_type": "stream",
          "name": "stdout",
          "text": [
            "Requirement already satisfied: matplotlib>=3.2.2 in /usr/local/lib/python3.10/dist-packages (from -r requirements.txt (line 4)) (3.7.1)\n",
            "Collecting numpy<1.24.0,>=1.18.5 (from -r requirements.txt (line 5))\n",
            "  Downloading numpy-1.23.5-cp310-cp310-manylinux_2_17_x86_64.manylinux2014_x86_64.whl (17.1 MB)\n",
            "     ━━━━━━━━━━━━━━━━━━━━━━━━━━━━━━━━━━━━━━━━ 17.1/17.1 MB 80.4 MB/s eta 0:00:00\n",
            "Requirement already satisfied: opencv-python>=4.1.1 in /usr/local/lib/python3.10/dist-packages (from -r requirements.txt (line 6)) (4.8.0.76)\n",
            "Requirement already satisfied: Pillow>=7.1.2 in /usr/local/lib/python3.10/dist-packages (from -r requirements.txt (line 7)) (9.4.0)\n",
            "Requirement already satisfied: PyYAML>=5.3.1 in /usr/local/lib/python3.10/dist-packages (from -r requirements.txt (line 8)) (6.0.1)\n",
            "Requirement already satisfied: requests>=2.23.0 in /usr/local/lib/python3.10/dist-packages (from -r requirements.txt (line 9)) (2.31.0)\n",
            "Requirement already satisfied: scipy>=1.4.1 in /usr/local/lib/python3.10/dist-packages (from -r requirements.txt (line 10)) (1.11.4)\n",
            "Requirement already satisfied: torch!=1.12.0,>=1.7.0 in /usr/local/lib/python3.10/dist-packages (from -r requirements.txt (line 11)) (2.2.1+cu121)\n",
            "Requirement already satisfied: torchvision!=0.13.0,>=0.8.1 in /usr/local/lib/python3.10/dist-packages (from -r requirements.txt (line 12)) (0.17.1+cu121)\n",
            "Requirement already satisfied: tqdm>=4.41.0 in /usr/local/lib/python3.10/dist-packages (from -r requirements.txt (line 13)) (4.66.2)\n",
            "Requirement already satisfied: protobuf<4.21.3 in /usr/local/lib/python3.10/dist-packages (from -r requirements.txt (line 14)) (3.20.3)\n",
            "Requirement already satisfied: tensorboard>=2.4.1 in /usr/local/lib/python3.10/dist-packages (from -r requirements.txt (line 17)) (2.15.2)\n",
            "Requirement already satisfied: pandas>=1.1.4 in /usr/local/lib/python3.10/dist-packages (from -r requirements.txt (line 21)) (2.0.3)\n",
            "Requirement already satisfied: seaborn>=0.11.0 in /usr/local/lib/python3.10/dist-packages (from -r requirements.txt (line 22)) (0.13.1)\n",
            "Requirement already satisfied: ipython in /usr/local/lib/python3.10/dist-packages (from -r requirements.txt (line 34)) (7.34.0)\n",
            "Requirement already satisfied: psutil in /usr/local/lib/python3.10/dist-packages (from -r requirements.txt (line 35)) (5.9.5)\n",
            "Collecting thop (from -r requirements.txt (line 36))\n",
            "  Downloading thop-0.1.1.post2209072238-py3-none-any.whl (15 kB)\n",
            "Requirement already satisfied: contourpy>=1.0.1 in /usr/local/lib/python3.10/dist-packages (from matplotlib>=3.2.2->-r requirements.txt (line 4)) (1.2.1)\n",
            "Requirement already satisfied: cycler>=0.10 in /usr/local/lib/python3.10/dist-packages (from matplotlib>=3.2.2->-r requirements.txt (line 4)) (0.12.1)\n",
            "Requirement already satisfied: fonttools>=4.22.0 in /usr/local/lib/python3.10/dist-packages (from matplotlib>=3.2.2->-r requirements.txt (line 4)) (4.50.0)\n",
            "Requirement already satisfied: kiwisolver>=1.0.1 in /usr/local/lib/python3.10/dist-packages (from matplotlib>=3.2.2->-r requirements.txt (line 4)) (1.4.5)\n",
            "Requirement already satisfied: packaging>=20.0 in /usr/local/lib/python3.10/dist-packages (from matplotlib>=3.2.2->-r requirements.txt (line 4)) (24.0)\n",
            "Requirement already satisfied: pyparsing>=2.3.1 in /usr/local/lib/python3.10/dist-packages (from matplotlib>=3.2.2->-r requirements.txt (line 4)) (3.1.2)\n",
            "Requirement already satisfied: python-dateutil>=2.7 in /usr/local/lib/python3.10/dist-packages (from matplotlib>=3.2.2->-r requirements.txt (line 4)) (2.8.2)\n",
            "Requirement already satisfied: charset-normalizer<4,>=2 in /usr/local/lib/python3.10/dist-packages (from requests>=2.23.0->-r requirements.txt (line 9)) (3.3.2)\n",
            "Requirement already satisfied: idna<4,>=2.5 in /usr/local/lib/python3.10/dist-packages (from requests>=2.23.0->-r requirements.txt (line 9)) (3.6)\n",
            "Requirement already satisfied: urllib3<3,>=1.21.1 in /usr/local/lib/python3.10/dist-packages (from requests>=2.23.0->-r requirements.txt (line 9)) (2.0.7)\n",
            "Requirement already satisfied: certifi>=2017.4.17 in /usr/local/lib/python3.10/dist-packages (from requests>=2.23.0->-r requirements.txt (line 9)) (2024.2.2)\n",
            "Requirement already satisfied: filelock in /usr/local/lib/python3.10/dist-packages (from torch!=1.12.0,>=1.7.0->-r requirements.txt (line 11)) (3.13.3)\n",
            "Requirement already satisfied: typing-extensions>=4.8.0 in /usr/local/lib/python3.10/dist-packages (from torch!=1.12.0,>=1.7.0->-r requirements.txt (line 11)) (4.10.0)\n",
            "Requirement already satisfied: sympy in /usr/local/lib/python3.10/dist-packages (from torch!=1.12.0,>=1.7.0->-r requirements.txt (line 11)) (1.12)\n",
            "Requirement already satisfied: networkx in /usr/local/lib/python3.10/dist-packages (from torch!=1.12.0,>=1.7.0->-r requirements.txt (line 11)) (3.2.1)\n",
            "Requirement already satisfied: jinja2 in /usr/local/lib/python3.10/dist-packages (from torch!=1.12.0,>=1.7.0->-r requirements.txt (line 11)) (3.1.3)\n",
            "Requirement already satisfied: fsspec in /usr/local/lib/python3.10/dist-packages (from torch!=1.12.0,>=1.7.0->-r requirements.txt (line 11)) (2023.6.0)\n",
            "Collecting nvidia-cuda-nvrtc-cu12==12.1.105 (from torch!=1.12.0,>=1.7.0->-r requirements.txt (line 11))\n",
            "  Using cached nvidia_cuda_nvrtc_cu12-12.1.105-py3-none-manylinux1_x86_64.whl (23.7 MB)\n",
            "Collecting nvidia-cuda-runtime-cu12==12.1.105 (from torch!=1.12.0,>=1.7.0->-r requirements.txt (line 11))\n",
            "  Using cached nvidia_cuda_runtime_cu12-12.1.105-py3-none-manylinux1_x86_64.whl (823 kB)\n",
            "Collecting nvidia-cuda-cupti-cu12==12.1.105 (from torch!=1.12.0,>=1.7.0->-r requirements.txt (line 11))\n",
            "  Using cached nvidia_cuda_cupti_cu12-12.1.105-py3-none-manylinux1_x86_64.whl (14.1 MB)\n",
            "Collecting nvidia-cudnn-cu12==8.9.2.26 (from torch!=1.12.0,>=1.7.0->-r requirements.txt (line 11))\n",
            "  Using cached nvidia_cudnn_cu12-8.9.2.26-py3-none-manylinux1_x86_64.whl (731.7 MB)\n",
            "Collecting nvidia-cublas-cu12==12.1.3.1 (from torch!=1.12.0,>=1.7.0->-r requirements.txt (line 11))\n",
            "  Using cached nvidia_cublas_cu12-12.1.3.1-py3-none-manylinux1_x86_64.whl (410.6 MB)\n",
            "Collecting nvidia-cufft-cu12==11.0.2.54 (from torch!=1.12.0,>=1.7.0->-r requirements.txt (line 11))\n",
            "  Using cached nvidia_cufft_cu12-11.0.2.54-py3-none-manylinux1_x86_64.whl (121.6 MB)\n",
            "Collecting nvidia-curand-cu12==10.3.2.106 (from torch!=1.12.0,>=1.7.0->-r requirements.txt (line 11))\n",
            "  Using cached nvidia_curand_cu12-10.3.2.106-py3-none-manylinux1_x86_64.whl (56.5 MB)\n",
            "Collecting nvidia-cusolver-cu12==11.4.5.107 (from torch!=1.12.0,>=1.7.0->-r requirements.txt (line 11))\n",
            "  Using cached nvidia_cusolver_cu12-11.4.5.107-py3-none-manylinux1_x86_64.whl (124.2 MB)\n",
            "Collecting nvidia-cusparse-cu12==12.1.0.106 (from torch!=1.12.0,>=1.7.0->-r requirements.txt (line 11))\n",
            "  Using cached nvidia_cusparse_cu12-12.1.0.106-py3-none-manylinux1_x86_64.whl (196.0 MB)\n",
            "Collecting nvidia-nccl-cu12==2.19.3 (from torch!=1.12.0,>=1.7.0->-r requirements.txt (line 11))\n",
            "  Using cached nvidia_nccl_cu12-2.19.3-py3-none-manylinux1_x86_64.whl (166.0 MB)\n",
            "Collecting nvidia-nvtx-cu12==12.1.105 (from torch!=1.12.0,>=1.7.0->-r requirements.txt (line 11))\n",
            "  Using cached nvidia_nvtx_cu12-12.1.105-py3-none-manylinux1_x86_64.whl (99 kB)\n",
            "Requirement already satisfied: triton==2.2.0 in /usr/local/lib/python3.10/dist-packages (from torch!=1.12.0,>=1.7.0->-r requirements.txt (line 11)) (2.2.0)\n",
            "Collecting nvidia-nvjitlink-cu12 (from nvidia-cusolver-cu12==11.4.5.107->torch!=1.12.0,>=1.7.0->-r requirements.txt (line 11))\n",
            "  Using cached nvidia_nvjitlink_cu12-12.4.127-py3-none-manylinux2014_x86_64.whl (21.1 MB)\n",
            "Requirement already satisfied: absl-py>=0.4 in /usr/local/lib/python3.10/dist-packages (from tensorboard>=2.4.1->-r requirements.txt (line 17)) (1.4.0)\n",
            "Requirement already satisfied: grpcio>=1.48.2 in /usr/local/lib/python3.10/dist-packages (from tensorboard>=2.4.1->-r requirements.txt (line 17)) (1.62.1)\n",
            "Requirement already satisfied: google-auth<3,>=1.6.3 in /usr/local/lib/python3.10/dist-packages (from tensorboard>=2.4.1->-r requirements.txt (line 17)) (2.27.0)\n",
            "Requirement already satisfied: google-auth-oauthlib<2,>=0.5 in /usr/local/lib/python3.10/dist-packages (from tensorboard>=2.4.1->-r requirements.txt (line 17)) (1.2.0)\n",
            "Requirement already satisfied: markdown>=2.6.8 in /usr/local/lib/python3.10/dist-packages (from tensorboard>=2.4.1->-r requirements.txt (line 17)) (3.6)\n",
            "Requirement already satisfied: setuptools>=41.0.0 in /usr/local/lib/python3.10/dist-packages (from tensorboard>=2.4.1->-r requirements.txt (line 17)) (67.7.2)\n",
            "Requirement already satisfied: six>1.9 in /usr/local/lib/python3.10/dist-packages (from tensorboard>=2.4.1->-r requirements.txt (line 17)) (1.16.0)\n",
            "Requirement already satisfied: tensorboard-data-server<0.8.0,>=0.7.0 in /usr/local/lib/python3.10/dist-packages (from tensorboard>=2.4.1->-r requirements.txt (line 17)) (0.7.2)\n",
            "Requirement already satisfied: werkzeug>=1.0.1 in /usr/local/lib/python3.10/dist-packages (from tensorboard>=2.4.1->-r requirements.txt (line 17)) (3.0.2)\n",
            "Requirement already satisfied: pytz>=2020.1 in /usr/local/lib/python3.10/dist-packages (from pandas>=1.1.4->-r requirements.txt (line 21)) (2023.4)\n",
            "Requirement already satisfied: tzdata>=2022.1 in /usr/local/lib/python3.10/dist-packages (from pandas>=1.1.4->-r requirements.txt (line 21)) (2024.1)\n",
            "Collecting jedi>=0.16 (from ipython->-r requirements.txt (line 34))\n",
            "  Downloading jedi-0.19.1-py2.py3-none-any.whl (1.6 MB)\n",
            "     ━━━━━━━━━━━━━━━━━━━━━━━━━━━━━━━━━━━━━━━━ 1.6/1.6 MB 78.2 MB/s eta 0:00:00\n",
            "Requirement already satisfied: decorator in /usr/local/lib/python3.10/dist-packages (from ipython->-r requirements.txt (line 34)) (4.4.2)\n",
            "Requirement already satisfied: pickleshare in /usr/local/lib/python3.10/dist-packages (from ipython->-r requirements.txt (line 34)) (0.7.5)\n",
            "Requirement already satisfied: traitlets>=4.2 in /usr/local/lib/python3.10/dist-packages (from ipython->-r requirements.txt (line 34)) (5.7.1)\n",
            "Requirement already satisfied: prompt-toolkit!=3.0.0,!=3.0.1,<3.1.0,>=2.0.0 in /usr/local/lib/python3.10/dist-packages (from ipython->-r requirements.txt (line 34)) (3.0.43)\n",
            "Requirement already satisfied: pygments in /usr/local/lib/python3.10/dist-packages (from ipython->-r requirements.txt (line 34)) (2.16.1)\n",
            "Requirement already satisfied: backcall in /usr/local/lib/python3.10/dist-packages (from ipython->-r requirements.txt (line 34)) (0.2.0)\n",
            "Requirement already satisfied: matplotlib-inline in /usr/local/lib/python3.10/dist-packages (from ipython->-r requirements.txt (line 34)) (0.1.6)\n",
            "Requirement already satisfied: pexpect>4.3 in /usr/local/lib/python3.10/dist-packages (from ipython->-r requirements.txt (line 34)) (4.9.0)\n",
            "Requirement already satisfied: cachetools<6.0,>=2.0.0 in /usr/local/lib/python3.10/dist-packages (from google-auth<3,>=1.6.3->tensorboard>=2.4.1->-r requirements.txt (line 17)) (5.3.3)\n",
            "Requirement already satisfied: pyasn1-modules>=0.2.1 in /usr/local/lib/python3.10/dist-packages (from google-auth<3,>=1.6.3->tensorboard>=2.4.1->-r requirements.txt (line 17)) (0.4.0)\n",
            "Requirement already satisfied: rsa<5,>=3.1.4 in /usr/local/lib/python3.10/dist-packages (from google-auth<3,>=1.6.3->tensorboard>=2.4.1->-r requirements.txt (line 17)) (4.9)\n",
            "Requirement already satisfied: requests-oauthlib>=0.7.0 in /usr/local/lib/python3.10/dist-packages (from google-auth-oauthlib<2,>=0.5->tensorboard>=2.4.1->-r requirements.txt (line 17)) (1.3.1)\n",
            "Requirement already satisfied: parso<0.9.0,>=0.8.3 in /usr/local/lib/python3.10/dist-packages (from jedi>=0.16->ipython->-r requirements.txt (line 34)) (0.8.3)\n",
            "Requirement already satisfied: ptyprocess>=0.5 in /usr/local/lib/python3.10/dist-packages (from pexpect>4.3->ipython->-r requirements.txt (line 34)) (0.7.0)\n",
            "Requirement already satisfied: wcwidth in /usr/local/lib/python3.10/dist-packages (from prompt-toolkit!=3.0.0,!=3.0.1,<3.1.0,>=2.0.0->ipython->-r requirements.txt (line 34)) (0.2.13)\n",
            "Requirement already satisfied: MarkupSafe>=2.1.1 in /usr/local/lib/python3.10/dist-packages (from werkzeug>=1.0.1->tensorboard>=2.4.1->-r requirements.txt (line 17)) (2.1.5)\n",
            "Requirement already satisfied: mpmath>=0.19 in /usr/local/lib/python3.10/dist-packages (from sympy->torch!=1.12.0,>=1.7.0->-r requirements.txt (line 11)) (1.3.0)\n",
            "Requirement already satisfied: pyasn1<0.7.0,>=0.4.6 in /usr/local/lib/python3.10/dist-packages (from pyasn1-modules>=0.2.1->google-auth<3,>=1.6.3->tensorboard>=2.4.1->-r requirements.txt (line 17)) (0.6.0)\n",
            "Requirement already satisfied: oauthlib>=3.0.0 in /usr/local/lib/python3.10/dist-packages (from requests-oauthlib>=0.7.0->google-auth-oauthlib<2,>=0.5->tensorboard>=2.4.1->-r requirements.txt (line 17)) (3.2.2)\n",
            "Installing collected packages: nvidia-nvtx-cu12, nvidia-nvjitlink-cu12, nvidia-nccl-cu12, nvidia-curand-cu12, nvidia-cufft-cu12, nvidia-cuda-runtime-cu12, nvidia-cuda-nvrtc-cu12, nvidia-cuda-cupti-cu12, nvidia-cublas-cu12, numpy, jedi, nvidia-cusparse-cu12, nvidia-cudnn-cu12, nvidia-cusolver-cu12, thop\n",
            "  Attempting uninstall: numpy\n",
            "    Found existing installation: numpy 1.25.2\n",
            "    Uninstalling numpy-1.25.2:\n",
            "      Successfully uninstalled numpy-1.25.2\n",
            "Successfully installed jedi-0.19.1 numpy-1.23.5 nvidia-cublas-cu12-12.1.3.1 nvidia-cuda-cupti-cu12-12.1.105 nvidia-cuda-nvrtc-cu12-12.1.105 nvidia-cuda-runtime-cu12-12.1.105 nvidia-cudnn-cu12-8.9.2.26 nvidia-cufft-cu12-11.0.2.54 nvidia-curand-cu12-10.3.2.106 nvidia-cusolver-cu12-11.4.5.107 nvidia-cusparse-cu12-12.1.0.106 nvidia-nccl-cu12-2.19.3 nvidia-nvjitlink-cu12-12.4.127 nvidia-nvtx-cu12-12.1.105 thop-0.1.1.post2209072238\n"
          ]
        },
        {
          "output_type": "stream",
          "name": "stderr",
          "text": [
            "fatal: destination path 'yolov7' already exists and is not an empty directory.\n",
            "--2024-04-11 09:03:03--  https://raw.githubusercontent.com/WongKinYiu/yolov7/u5/requirements.txt\n",
            "Resolving raw.githubusercontent.com (raw.githubusercontent.com)... 185.199.108.133, 185.199.109.133, 185.199.110.133, ...\n",
            "Connecting to raw.githubusercontent.com (raw.githubusercontent.com)|185.199.108.133|:443... connected.\n",
            "HTTP request sent, awaiting response... 200 OK\n",
            "Length: 1032 (1.0K) [text/plain]\n",
            "Saving to: ‘requirements.txt.60’\n",
            "\n",
            "     0K .                                                     100% 42.7M=0s\n",
            "\n",
            "2024-04-11 09:03:04 (42.7 MB/s) - ‘requirements.txt.60’ saved [1032/1032]\n",
            "\n",
            "ERROR: pip's dependency resolver does not currently take into account all the packages that are installed. This behaviour is the source of the following dependency conflicts.\n",
            "chex 0.1.86 requires numpy>=1.24.1, but you have numpy 1.23.5 which is incompatible.\n",
            "pandas-stubs 2.0.3.230814 requires numpy>=1.25.0; python_version >= \"3.9\", but you have numpy 1.23.5 which is incompatible.\n"
          ]
        }
      ],
      "source": [
        "%%bash\n",
        "cd /content/gdrive/MyDrive\n",
        "git clone https://github.com/WongKinYiu/yolov7.git\n",
        "cd yolov7\n",
        "wget https://raw.githubusercontent.com/WongKinYiu/yolov7/u5/requirements.txt\n",
        "pip install -r requirements.txt"
      ]
    },
    {
      "cell_type": "code",
      "execution_count": null,
      "metadata": {
        "id": "kCZxHp_i7uhf"
      },
      "outputs": [],
      "source": [
        "import os\n",
        "import sys\n",
        "sys.path.append('/content/gdrive/MyDrive/yolov7')"
      ]
    },
    {
      "cell_type": "code",
      "execution_count": null,
      "metadata": {
        "id": "RQqQE8xb83XY",
        "colab": {
          "base_uri": "https://localhost:8080/"
        },
        "outputId": "9b3e2c94-a2e9-4847-82a6-a98938acec4e"
      },
      "outputs": [
        {
          "output_type": "stream",
          "name": "stdout",
          "text": [
            "/content/gdrive/MyDrive/yolov7\n"
          ]
        }
      ],
      "source": [
        "cd /content/gdrive/MyDrive/yolov7"
      ]
    },
    {
      "cell_type": "code",
      "execution_count": null,
      "metadata": {
        "id": "TtFXE96v-03G"
      },
      "outputs": [],
      "source": [
        "if not os.path.isdir(\"/content/gdrive/MyDrive/yolov7/weights\"):\n",
        "  os.makedirs(\"/content/gdrive/MyDrive/yolov7/weights\")"
      ]
    },
    {
      "cell_type": "markdown",
      "metadata": {
        "id": "Y9gDg62ZMuS6"
      },
      "source": [
        "# 1.3 import所需library和定義補邊的函式"
      ]
    },
    {
      "cell_type": "code",
      "execution_count": null,
      "metadata": {
        "id": "ZUd4EL67CQ3L"
      },
      "outputs": [],
      "source": [
        "import argparse\n",
        "import time\n",
        "from pathlib import Path\n",
        "import cv2\n",
        "import torch\n",
        "import numpy as np\n",
        "import torch.backends.cudnn as cudnn\n",
        "from numpy import random\n",
        "\n",
        "from models.experimental import attempt_load\n",
        "from utils.datasets import LoadStreams, LoadImages\n",
        "from utils.general import check_img_size, check_requirements, check_imshow, non_max_suppression, apply_classifier, \\\n",
        "    scale_coords, xyxy2xywh, strip_optimizer, set_logging, increment_path\n",
        "from utils.plots import plot_one_box\n",
        "from utils.torch_utils import select_device, load_classifier, time_synchronized, TracedModel\n",
        "\n",
        "\n",
        "def letterbox(img, new_shape=(640, 640), color=(114, 114, 114), auto=True, scaleFill=False, scaleup=True, stride=32):\n",
        "    shape = img.shape[:2]\n",
        "    #確保輸入的new_shape類型為int\n",
        "    if isinstance(new_shape, int):\n",
        "        new_shape = (new_shape, new_shape)\n",
        "\n",
        "    # 計算長寬放大比例\n",
        "    r = min(new_shape[0] / shape[0], new_shape[1] / shape[1])\n",
        "    if not scaleup:\n",
        "        r = min(r, 1.0)\n",
        "\n",
        "    # 將原本圖片長寬乘上比例 並計算要求的長寬與乘上比例後的原圖長寬差多少 補上餘數後就是等比例縮小\n",
        "    ratio = r, r\n",
        "    new_unpad = int(round(shape[1] * r)), int(round(shape[0] * r))\n",
        "    # 算出要補多少\n",
        "    dw, dh = new_shape[1] - new_unpad[0], new_shape[0] - new_unpad[1]\n",
        "    if auto:  # 算出最少需要補多少的dw, dh\n",
        "        dw, dh = np.mod(dw, stride), np.mod(dh, stride)   # np.mod取餘數\n",
        "    elif scaleFill:\n",
        "        dw, dh = 0.0, 0.0\n",
        "        new_unpad = (new_shape[1], new_shape[0])\n",
        "        ratio = new_shape[1] / shape[1], new_shape[0] / shape[0]\n",
        "    dw /= 2  # 分成兩邊\n",
        "    dh /= 2\n",
        "\n",
        "    if shape[::-1] != new_unpad:  # 調整大小\n",
        "        img = cv2.resize(img, new_unpad, interpolation=cv2.INTER_LINEAR)\n",
        "    top, bottom = int(round(dh - 0.1)), int(round(dh + 0.1))\n",
        "    left, right = int(round(dw - 0.1)), int(round(dw + 0.1))\n",
        "    img = cv2.copyMakeBorder(img, top, bottom, left, right, cv2.BORDER_CONSTANT, value=color)  # 補邊\n",
        "    return img, ratio, (dw, dh)\n",
        "\n"
      ]
    },
    {
      "cell_type": "markdown",
      "metadata": {
        "id": "h2YOaDzZ9S2U"
      },
      "source": [
        "# **1.4 重要參數**"
      ]
    },
    {
      "cell_type": "code",
      "execution_count": null,
      "metadata": {
        "id": "yYNQUqYo9GGB"
      },
      "outputs": [],
      "source": [
        "opt  = {\n",
        "    \"weights\": \"weights/best_50_detect.pt\",\n",
        "    \"yaml\"   : \"data/data.yaml\",\n",
        "    \"img-size\": 640,\n",
        "    \"conf-thres\": 0.35, # 準確度要達到設定的閥值才顯示\n",
        "    \"iou-thres\" : 0.45, # 設定重疊顯示的閥值\n",
        "    \"device\" : '0', # 使用GPU\n",
        "    \"classes\" : None\n",
        "}"
      ]
    },
    {
      "cell_type": "markdown",
      "metadata": {
        "id": "IS_IaWqBW77h"
      },
      "source": [
        "# **2. 使用webcam辨識**"
      ]
    },
    {
      "cell_type": "code",
      "execution_count": null,
      "metadata": {
        "id": "HCswC-EgW4Hs"
      },
      "outputs": [],
      "source": [
        "from IPython.display import display, Javascript, Image\n",
        "from google.colab.output import eval_js\n",
        "from google.colab.patches import cv2_imshow\n",
        "from base64 import b64decode, b64encode\n",
        "import PIL\n",
        "import io\n",
        "import html\n",
        "# 將JavaScript 物件轉換為OpenCV格式的圖片\n",
        "def js_to_image(js_reply):\n",
        "\n",
        "  # base64 的圖片\n",
        "  image_bytes = b64decode(js_reply.split(',')[1])\n",
        "  # 轉換為 numpy array\n",
        "  jpg_as_np = np.frombuffer(image_bytes, dtype=np.uint8)\n",
        "  # 將 numpy array 轉換成 OpenCV BGR\n",
        "  img = cv2.imdecode(jpg_as_np, flags=1)\n",
        "\n",
        "  return img\n",
        "\n",
        "# 將偵測框從OpenCV 轉換為base64 byte字串以便即時覆蓋在相機上\n",
        "def bbox_to_bytes(bbox_array):\n",
        "  # 將 array 轉為 PIL image\n",
        "  bbox_PIL = PIL.Image.fromarray(bbox_array, 'RGBA')\n",
        "  iobuf = io.BytesIO()\n",
        "  # PIL image 儲存成 png 以便後續處理\n",
        "  bbox_PIL.save(iobuf, format='png')\n",
        "  # 回傳base64 byte字串給bbox_bytes變數\n",
        "  bbox_bytes = 'data:image/png;base64,{}'.format((str(b64encode(iobuf.getvalue()), 'utf-8')))\n",
        "\n",
        "  return bbox_bytes\n",
        "\n",
        "\n",
        "# 使用Javascript啟動相機\n",
        "def video_stream():\n",
        "  js = Javascript('''\n",
        "    var video;\n",
        "    var div = null;\n",
        "    var stream;\n",
        "    var captureCanvas;\n",
        "    var imgElement;\n",
        "    var labelElement;\n",
        "\n",
        "    var pendingResolve = null;\n",
        "    var shutdown = false;\n",
        "\n",
        "    function removeDom() {\n",
        "       stream.getVideoTracks()[0].stop();\n",
        "       video.remove();\n",
        "       div.remove();\n",
        "       video = null;\n",
        "       div = null;\n",
        "       stream = null;\n",
        "       imgElement = null;\n",
        "       captureCanvas = null;\n",
        "       labelElement = null;\n",
        "    }\n",
        "\n",
        "    function onAnimationFrame() {\n",
        "      if (!shutdown) {\n",
        "        window.requestAnimationFrame(onAnimationFrame);\n",
        "      }\n",
        "      if (pendingResolve) {\n",
        "        var result = \"\";\n",
        "        if (!shutdown) {\n",
        "          captureCanvas.getContext('2d').drawImage(video, 0, 0, 640, 480);\n",
        "          result = captureCanvas.toDataURL('image/jpeg', 0.8)\n",
        "        }\n",
        "        var lp = pendingResolve;\n",
        "        pendingResolve = null;\n",
        "        lp(result);\n",
        "      }\n",
        "    }\n",
        "\n",
        "    async function createDom() {\n",
        "      if (div !== null) {\n",
        "        return stream;\n",
        "      }\n",
        "\n",
        "      div = document.createElement('div');\n",
        "      div.style.position = 'fixed';\n",
        "      div.style.top = '0%';\n",
        "      div.style.border = '2px solid black';\n",
        "      div.style.padding = '3px';\n",
        "      div.style.width = '100%';\n",
        "      div.style.maxWidth = '600px';\n",
        "      document.body.appendChild(div);\n",
        "\n",
        "      const modelOut = document.createElement('div');\n",
        "      modelOut.innerHTML = \"<span>狀態:</span>\";\n",
        "      labelElement = document.createElement('span');\n",
        "      labelElement.innerText = 'No data';\n",
        "      labelElement.style.fontWeight = 'bold';\n",
        "      modelOut.appendChild(labelElement);\n",
        "      div.appendChild(modelOut);\n",
        "\n",
        "      video = document.createElement('video');\n",
        "      video.style.display = 'block';\n",
        "      video.width = div.clientWidth - 6;\n",
        "      video.setAttribute('playsinline', '');\n",
        "      video.onclick = () => { shutdown = true; };\n",
        "      stream = await navigator.mediaDevices.getUserMedia(\n",
        "          {video: { facingMode: \"environment\"}});\n",
        "      div.appendChild(video);\n",
        "\n",
        "      imgElement = document.createElement('img');\n",
        "      imgElement.style.position = 'absolute';\n",
        "      imgElement.style.zIndex = 1;\n",
        "      imgElement.onclick = () => { shutdown = true; };\n",
        "      div.appendChild(imgElement);\n",
        "\n",
        "      const instruction = document.createElement('div');\n",
        "      instruction.innerHTML =\n",
        "          '<span style=\"color: red; font-weight: bold;\">' +\n",
        "          '點此或是影片以結束執行</span>';\n",
        "      div.appendChild(instruction);\n",
        "      instruction.onclick = () => { shutdown = true; };\n",
        "\n",
        "      video.srcObject = stream;\n",
        "      await video.play();\n",
        "\n",
        "      captureCanvas = document.createElement('canvas');\n",
        "      captureCanvas.width = 640;\n",
        "      captureCanvas.height = 480;\n",
        "      window.requestAnimationFrame(onAnimationFrame);\n",
        "\n",
        "      return stream;\n",
        "    }\n",
        "    async function stream_frame(label, imgData) {\n",
        "      if (shutdown) {\n",
        "        removeDom();\n",
        "        shutdown = false;\n",
        "        return '';\n",
        "      }\n",
        "\n",
        "      var preCreate = Date.now();\n",
        "      stream = await createDom();\n",
        "\n",
        "      var preShow = Date.now();\n",
        "      if (label != \"\") {\n",
        "        labelElement.innerHTML = label;\n",
        "      }\n",
        "\n",
        "      if (imgData != \"\") {\n",
        "        var videoRect = video.getClientRects()[0];\n",
        "        imgElement.style.top = videoRect.top + \"px\";\n",
        "        imgElement.style.left = videoRect.left + \"px\";\n",
        "        imgElement.style.width = videoRect.width + \"px\";\n",
        "        imgElement.style.height = videoRect.height + \"px\";\n",
        "        imgElement.src = imgData;\n",
        "      }\n",
        "\n",
        "      var preCapture = Date.now();\n",
        "      var result = await new Promise(function(resolve, reject) {\n",
        "        pendingResolve = resolve;\n",
        "      });\n",
        "      shutdown = false;\n",
        "\n",
        "      return {'create': preShow - preCreate,\n",
        "              'show': preCapture - preShow,\n",
        "              'capture': Date.now() - preCapture,\n",
        "              'img': result};\n",
        "    }\n",
        "    ''')\n",
        "\n",
        "  display(js)\n",
        "\n",
        "def video_frame(label, bbox):\n",
        "  data = eval_js('stream_frame(\"{}\", \"{}\")'.format(label, bbox))\n",
        "  return data"
      ]
    },
    {
      "cell_type": "code",
      "source": [
        "# 使用numpy自製音檔 並且儲存要播放的音檔至wn變數\n",
        "from IPython.display import Audio\n",
        "f1 = 500\n",
        "f2 = 1000\n",
        "rate = 9000\n",
        "L = 2\n",
        "times = np.linspace(0,L,rate*L)\n",
        "signal = np.sin(2*np.pi*f1*times) + np.sin(2*np.pi*f2*times)\n",
        "\n",
        "wn = Audio(data=signal, rate=rate, autoplay=True)"
      ],
      "metadata": {
        "id": "ndEVmebkyC05"
      },
      "execution_count": null,
      "outputs": []
    },
    {
      "cell_type": "code",
      "execution_count": null,
      "metadata": {
        "id": "NYvPdjQYXCzi",
        "colab": {
          "base_uri": "https://localhost:8080/",
          "height": 1000
        },
        "outputId": "090f93ef-0da4-41d9-c574-0f212c3440ca"
      },
      "outputs": [
        {
          "output_type": "display_data",
          "data": {
            "text/plain": [
              "<IPython.core.display.Javascript object>"
            ],
            "application/javascript": [
              "\n",
              "    var video;\n",
              "    var div = null;\n",
              "    var stream;\n",
              "    var captureCanvas;\n",
              "    var imgElement;\n",
              "    var labelElement;\n",
              "\n",
              "    var pendingResolve = null;\n",
              "    var shutdown = false;\n",
              "\n",
              "    function removeDom() {\n",
              "       stream.getVideoTracks()[0].stop();\n",
              "       video.remove();\n",
              "       div.remove();\n",
              "       video = null;\n",
              "       div = null;\n",
              "       stream = null;\n",
              "       imgElement = null;\n",
              "       captureCanvas = null;\n",
              "       labelElement = null;\n",
              "    }\n",
              "\n",
              "    function onAnimationFrame() {\n",
              "      if (!shutdown) {\n",
              "        window.requestAnimationFrame(onAnimationFrame);\n",
              "      }\n",
              "      if (pendingResolve) {\n",
              "        var result = \"\";\n",
              "        if (!shutdown) {\n",
              "          captureCanvas.getContext('2d').drawImage(video, 0, 0, 640, 480);\n",
              "          result = captureCanvas.toDataURL('image/jpeg', 0.8)\n",
              "        }\n",
              "        var lp = pendingResolve;\n",
              "        pendingResolve = null;\n",
              "        lp(result);\n",
              "      }\n",
              "    }\n",
              "\n",
              "    async function createDom() {\n",
              "      if (div !== null) {\n",
              "        return stream;\n",
              "      }\n",
              "\n",
              "      div = document.createElement('div');\n",
              "      div.style.position = 'fixed';\n",
              "      div.style.top = '0%';\n",
              "      div.style.border = '2px solid black';\n",
              "      div.style.padding = '3px';\n",
              "      div.style.width = '100%';\n",
              "      div.style.maxWidth = '600px';\n",
              "      document.body.appendChild(div);\n",
              "\n",
              "      const modelOut = document.createElement('div');\n",
              "      modelOut.innerHTML = \"<span>狀態:</span>\";\n",
              "      labelElement = document.createElement('span');\n",
              "      labelElement.innerText = 'No data';\n",
              "      labelElement.style.fontWeight = 'bold';\n",
              "      modelOut.appendChild(labelElement);\n",
              "      div.appendChild(modelOut);\n",
              "\n",
              "      video = document.createElement('video');\n",
              "      video.style.display = 'block';\n",
              "      video.width = div.clientWidth - 6;\n",
              "      video.setAttribute('playsinline', '');\n",
              "      video.onclick = () => { shutdown = true; };\n",
              "      stream = await navigator.mediaDevices.getUserMedia(\n",
              "          {video: { facingMode: \"environment\"}});\n",
              "      div.appendChild(video);\n",
              "\n",
              "      imgElement = document.createElement('img');\n",
              "      imgElement.style.position = 'absolute';\n",
              "      imgElement.style.zIndex = 1;\n",
              "      imgElement.onclick = () => { shutdown = true; };\n",
              "      div.appendChild(imgElement);\n",
              "\n",
              "      const instruction = document.createElement('div');\n",
              "      instruction.innerHTML =\n",
              "          '<span style=\"color: red; font-weight: bold;\">' +\n",
              "          '點此或是影片以結束執行</span>';\n",
              "      div.appendChild(instruction);\n",
              "      instruction.onclick = () => { shutdown = true; };\n",
              "\n",
              "      video.srcObject = stream;\n",
              "      await video.play();\n",
              "\n",
              "      captureCanvas = document.createElement('canvas');\n",
              "      captureCanvas.width = 640;\n",
              "      captureCanvas.height = 480;\n",
              "      window.requestAnimationFrame(onAnimationFrame);\n",
              "\n",
              "      return stream;\n",
              "    }\n",
              "    async function stream_frame(label, imgData) {\n",
              "      if (shutdown) {\n",
              "        removeDom();\n",
              "        shutdown = false;\n",
              "        return '';\n",
              "      }\n",
              "\n",
              "      var preCreate = Date.now();\n",
              "      stream = await createDom();\n",
              "\n",
              "      var preShow = Date.now();\n",
              "      if (label != \"\") {\n",
              "        labelElement.innerHTML = label;\n",
              "      }\n",
              "\n",
              "      if (imgData != \"\") {\n",
              "        var videoRect = video.getClientRects()[0];\n",
              "        imgElement.style.top = videoRect.top + \"px\";\n",
              "        imgElement.style.left = videoRect.left + \"px\";\n",
              "        imgElement.style.width = videoRect.width + \"px\";\n",
              "        imgElement.style.height = videoRect.height + \"px\";\n",
              "        imgElement.src = imgData;\n",
              "      }\n",
              "\n",
              "      var preCapture = Date.now();\n",
              "      var result = await new Promise(function(resolve, reject) {\n",
              "        pendingResolve = resolve;\n",
              "      });\n",
              "      shutdown = false;\n",
              "\n",
              "      return {'create': preShow - preCreate,\n",
              "              'show': preCapture - preShow,\n",
              "              'capture': Date.now() - preCapture,\n",
              "              'img': result};\n",
              "    }\n",
              "    "
            ]
          },
          "metadata": {}
        },
        {
          "output_type": "stream",
          "name": "stdout",
          "text": [
            "\n",
            "\n",
            "\n",
            "\n",
            "\n",
            "\n",
            "\n",
            "\n",
            "\n",
            "\n",
            "\n",
            "\n",
            "\n",
            "\n",
            "\n",
            "\n",
            "\n",
            "\n",
            "\n",
            "\n",
            "\n",
            "\n",
            "\n",
            "\n",
            "\n",
            "\n",
            "\n",
            "\n",
            "\n",
            "\n",
            "\n",
            "Fusing layers... \n",
            "RepConv.fuse_repvgg_block\n",
            "RepConv.fuse_repvgg_block\n",
            "RepConv.fuse_repvgg_block\n",
            "IDetect.fuse\n"
          ]
        },
        {
          "output_type": "stream",
          "name": "stderr",
          "text": [
            "/usr/local/lib/python3.10/dist-packages/torch/functional.py:507: UserWarning: torch.meshgrid: in an upcoming release, it will be required to pass the indexing argument. (Triggered internally at ../aten/src/ATen/native/TensorShape.cpp:3549.)\n",
            "  return _VF.meshgrid(tensors, **kwargs)  # type: ignore[attr-defined]\n"
          ]
        },
        {
          "output_type": "display_data",
          "data": {
            "text/plain": [
              "<IPython.core.display.Javascript object>"
            ],
            "application/javascript": [
              "\n",
              "\n",
              "    var elementsToHide = document.querySelectorAll(\".display_data\");\n",
              "\n",
              "    elementsToHide.forEach(function(element) {\n",
              "        element.style.display = \"none\";\n",
              "    });\n",
              "    "
            ]
          },
          "metadata": {}
        },
        {
          "output_type": "display_data",
          "data": {
            "text/plain": [
              "<IPython.core.display.Javascript object>"
            ],
            "application/javascript": [
              "\n",
              "\n",
              "    var elementsToHide = document.querySelectorAll(\".display_data\");\n",
              "\n",
              "    elementsToHide.forEach(function(element) {\n",
              "        element.style.display = \"none\";\n",
              "    });\n",
              "    "
            ]
          },
          "metadata": {}
        },
        {
          "output_type": "display_data",
          "data": {
            "text/plain": [
              "<IPython.core.display.Javascript object>"
            ],
            "application/javascript": [
              "\n",
              "\n",
              "    var elementsToHide = document.querySelectorAll(\".display_data\");\n",
              "\n",
              "    elementsToHide.forEach(function(element) {\n",
              "        element.style.display = \"none\";\n",
              "    });\n",
              "    "
            ]
          },
          "metadata": {}
        },
        {
          "output_type": "display_data",
          "data": {
            "text/plain": [
              "<IPython.core.display.Javascript object>"
            ],
            "application/javascript": [
              "\n",
              "\n",
              "    var elementsToHide = document.querySelectorAll(\".display_data\");\n",
              "\n",
              "    elementsToHide.forEach(function(element) {\n",
              "        element.style.display = \"none\";\n",
              "    });\n",
              "    "
            ]
          },
          "metadata": {}
        },
        {
          "output_type": "display_data",
          "data": {
            "text/plain": [
              "<IPython.core.display.Javascript object>"
            ],
            "application/javascript": [
              "\n",
              "\n",
              "    var elementsToHide = document.querySelectorAll(\".display_data\");\n",
              "\n",
              "    elementsToHide.forEach(function(element) {\n",
              "        element.style.display = \"none\";\n",
              "    });\n",
              "    "
            ]
          },
          "metadata": {}
        },
        {
          "output_type": "display_data",
          "data": {
            "text/plain": [
              "<IPython.core.display.Javascript object>"
            ],
            "application/javascript": [
              "\n",
              "\n",
              "    var elementsToHide = document.querySelectorAll(\".display_data\");\n",
              "\n",
              "    elementsToHide.forEach(function(element) {\n",
              "        element.style.display = \"none\";\n",
              "    });\n",
              "    "
            ]
          },
          "metadata": {}
        },
        {
          "output_type": "display_data",
          "data": {
            "text/plain": [
              "<IPython.core.display.Javascript object>"
            ],
            "application/javascript": [
              "\n",
              "\n",
              "    var elementsToHide = document.querySelectorAll(\".display_data\");\n",
              "\n",
              "    elementsToHide.forEach(function(element) {\n",
              "        element.style.display = \"none\";\n",
              "    });\n",
              "    "
            ]
          },
          "metadata": {}
        },
        {
          "output_type": "display_data",
          "data": {
            "text/plain": [
              "<IPython.core.display.Javascript object>"
            ],
            "application/javascript": [
              "\n",
              "\n",
              "    var elementsToHide = document.querySelectorAll(\".display_data\");\n",
              "\n",
              "    elementsToHide.forEach(function(element) {\n",
              "        element.style.display = \"none\";\n",
              "    });\n",
              "    "
            ]
          },
          "metadata": {}
        },
        {
          "output_type": "display_data",
          "data": {
            "text/plain": [
              "<IPython.core.display.Javascript object>"
            ],
            "application/javascript": [
              "\n",
              "\n",
              "    var elementsToHide = document.querySelectorAll(\".display_data\");\n",
              "\n",
              "    elementsToHide.forEach(function(element) {\n",
              "        element.style.display = \"none\";\n",
              "    });\n",
              "    "
            ]
          },
          "metadata": {}
        },
        {
          "output_type": "display_data",
          "data": {
            "text/plain": [
              "<IPython.core.display.Javascript object>"
            ],
            "application/javascript": [
              "\n",
              "\n",
              "    var elementsToHide = document.querySelectorAll(\".display_data\");\n",
              "\n",
              "    elementsToHide.forEach(function(element) {\n",
              "        element.style.display = \"none\";\n",
              "    });\n",
              "    "
            ]
          },
          "metadata": {}
        },
        {
          "output_type": "display_data",
          "data": {
            "text/plain": [
              "<IPython.core.display.Javascript object>"
            ],
            "application/javascript": [
              "\n",
              "\n",
              "    var elementsToHide = document.querySelectorAll(\".display_data\");\n",
              "\n",
              "    elementsToHide.forEach(function(element) {\n",
              "        element.style.display = \"none\";\n",
              "    });\n",
              "    "
            ]
          },
          "metadata": {}
        },
        {
          "output_type": "display_data",
          "data": {
            "text/plain": [
              "<IPython.core.display.Javascript object>"
            ],
            "application/javascript": [
              "\n",
              "\n",
              "    var elementsToHide = document.querySelectorAll(\".display_data\");\n",
              "\n",
              "    elementsToHide.forEach(function(element) {\n",
              "        element.style.display = \"none\";\n",
              "    });\n",
              "    "
            ]
          },
          "metadata": {}
        },
        {
          "output_type": "display_data",
          "data": {
            "text/plain": [
              "<IPython.core.display.Javascript object>"
            ],
            "application/javascript": [
              "\n",
              "\n",
              "    var elementsToHide = document.querySelectorAll(\".display_data\");\n",
              "\n",
              "    elementsToHide.forEach(function(element) {\n",
              "        element.style.display = \"none\";\n",
              "    });\n",
              "    "
            ]
          },
          "metadata": {}
        },
        {
          "output_type": "display_data",
          "data": {
            "text/plain": [
              "<IPython.core.display.Javascript object>"
            ],
            "application/javascript": [
              "\n",
              "\n",
              "    var elementsToHide = document.querySelectorAll(\".display_data\");\n",
              "\n",
              "    elementsToHide.forEach(function(element) {\n",
              "        element.style.display = \"none\";\n",
              "    });\n",
              "    "
            ]
          },
          "metadata": {}
        },
        {
          "output_type": "display_data",
          "data": {
            "text/plain": [
              "<IPython.core.display.Javascript object>"
            ],
            "application/javascript": [
              "\n",
              "\n",
              "    var elementsToHide = document.querySelectorAll(\".display_data\");\n",
              "\n",
              "    elementsToHide.forEach(function(element) {\n",
              "        element.style.display = \"none\";\n",
              "    });\n",
              "    "
            ]
          },
          "metadata": {}
        },
        {
          "output_type": "display_data",
          "data": {
            "text/plain": [
              "<IPython.core.display.Javascript object>"
            ],
            "application/javascript": [
              "\n",
              "\n",
              "    var elementsToHide = document.querySelectorAll(\".display_data\");\n",
              "\n",
              "    elementsToHide.forEach(function(element) {\n",
              "        element.style.display = \"none\";\n",
              "    });\n",
              "    "
            ]
          },
          "metadata": {}
        },
        {
          "output_type": "display_data",
          "data": {
            "text/plain": [
              "<IPython.core.display.Javascript object>"
            ],
            "application/javascript": [
              "\n",
              "\n",
              "    var elementsToHide = document.querySelectorAll(\".display_data\");\n",
              "\n",
              "    elementsToHide.forEach(function(element) {\n",
              "        element.style.display = \"none\";\n",
              "    });\n",
              "    "
            ]
          },
          "metadata": {}
        },
        {
          "output_type": "display_data",
          "data": {
            "text/plain": [
              "<IPython.core.display.Javascript object>"
            ],
            "application/javascript": [
              "\n",
              "\n",
              "    var elementsToHide = document.querySelectorAll(\".display_data\");\n",
              "\n",
              "    elementsToHide.forEach(function(element) {\n",
              "        element.style.display = \"none\";\n",
              "    });\n",
              "    "
            ]
          },
          "metadata": {}
        },
        {
          "output_type": "display_data",
          "data": {
            "text/plain": [
              "<IPython.core.display.Javascript object>"
            ],
            "application/javascript": [
              "\n",
              "\n",
              "    var elementsToHide = document.querySelectorAll(\".display_data\");\n",
              "\n",
              "    elementsToHide.forEach(function(element) {\n",
              "        element.style.display = \"none\";\n",
              "    });\n",
              "    "
            ]
          },
          "metadata": {}
        },
        {
          "output_type": "display_data",
          "data": {
            "text/plain": [
              "<IPython.core.display.Javascript object>"
            ],
            "application/javascript": [
              "\n",
              "\n",
              "    var elementsToHide = document.querySelectorAll(\".display_data\");\n",
              "\n",
              "    elementsToHide.forEach(function(element) {\n",
              "        element.style.display = \"none\";\n",
              "    });\n",
              "    "
            ]
          },
          "metadata": {}
        },
        {
          "output_type": "display_data",
          "data": {
            "text/plain": [
              "<IPython.core.display.Javascript object>"
            ],
            "application/javascript": [
              "\n",
              "\n",
              "    var elementsToHide = document.querySelectorAll(\".display_data\");\n",
              "\n",
              "    elementsToHide.forEach(function(element) {\n",
              "        element.style.display = \"none\";\n",
              "    });\n",
              "    "
            ]
          },
          "metadata": {}
        },
        {
          "output_type": "display_data",
          "data": {
            "text/plain": [
              "<IPython.core.display.Javascript object>"
            ],
            "application/javascript": [
              "\n",
              "\n",
              "    var elementsToHide = document.querySelectorAll(\".display_data\");\n",
              "\n",
              "    elementsToHide.forEach(function(element) {\n",
              "        element.style.display = \"none\";\n",
              "    });\n",
              "    "
            ]
          },
          "metadata": {}
        },
        {
          "output_type": "display_data",
          "data": {
            "text/plain": [
              "<IPython.core.display.Javascript object>"
            ],
            "application/javascript": [
              "\n",
              "\n",
              "    var elementsToHide = document.querySelectorAll(\".display_data\");\n",
              "\n",
              "    elementsToHide.forEach(function(element) {\n",
              "        element.style.display = \"none\";\n",
              "    });\n",
              "    "
            ]
          },
          "metadata": {}
        },
        {
          "output_type": "display_data",
          "data": {
            "text/plain": [
              "<IPython.core.display.Javascript object>"
            ],
            "application/javascript": [
              "\n",
              "\n",
              "    var elementsToHide = document.querySelectorAll(\".display_data\");\n",
              "\n",
              "    elementsToHide.forEach(function(element) {\n",
              "        element.style.display = \"none\";\n",
              "    });\n",
              "    "
            ]
          },
          "metadata": {}
        },
        {
          "output_type": "display_data",
          "data": {
            "text/plain": [
              "<IPython.core.display.Javascript object>"
            ],
            "application/javascript": [
              "\n",
              "\n",
              "    var elementsToHide = document.querySelectorAll(\".display_data\");\n",
              "\n",
              "    elementsToHide.forEach(function(element) {\n",
              "        element.style.display = \"none\";\n",
              "    });\n",
              "    "
            ]
          },
          "metadata": {}
        },
        {
          "output_type": "display_data",
          "data": {
            "text/plain": [
              "<IPython.core.display.Javascript object>"
            ],
            "application/javascript": [
              "\n",
              "\n",
              "    var elementsToHide = document.querySelectorAll(\".display_data\");\n",
              "\n",
              "    elementsToHide.forEach(function(element) {\n",
              "        element.style.display = \"none\";\n",
              "    });\n",
              "    "
            ]
          },
          "metadata": {}
        },
        {
          "output_type": "display_data",
          "data": {
            "text/plain": [
              "<IPython.core.display.Javascript object>"
            ],
            "application/javascript": [
              "\n",
              "\n",
              "    var elementsToHide = document.querySelectorAll(\".display_data\");\n",
              "\n",
              "    elementsToHide.forEach(function(element) {\n",
              "        element.style.display = \"none\";\n",
              "    });\n",
              "    "
            ]
          },
          "metadata": {}
        },
        {
          "output_type": "display_data",
          "data": {
            "text/plain": [
              "<IPython.core.display.Javascript object>"
            ],
            "application/javascript": [
              "\n",
              "\n",
              "    var elementsToHide = document.querySelectorAll(\".display_data\");\n",
              "\n",
              "    elementsToHide.forEach(function(element) {\n",
              "        element.style.display = \"none\";\n",
              "    });\n",
              "    "
            ]
          },
          "metadata": {}
        },
        {
          "output_type": "display_data",
          "data": {
            "text/plain": [
              "<IPython.core.display.Javascript object>"
            ],
            "application/javascript": [
              "\n",
              "\n",
              "    var elementsToHide = document.querySelectorAll(\".display_data\");\n",
              "\n",
              "    elementsToHide.forEach(function(element) {\n",
              "        element.style.display = \"none\";\n",
              "    });\n",
              "    "
            ]
          },
          "metadata": {}
        },
        {
          "output_type": "display_data",
          "data": {
            "text/plain": [
              "<IPython.core.display.Javascript object>"
            ],
            "application/javascript": [
              "\n",
              "\n",
              "    var elementsToHide = document.querySelectorAll(\".display_data\");\n",
              "\n",
              "    elementsToHide.forEach(function(element) {\n",
              "        element.style.display = \"none\";\n",
              "    });\n",
              "    "
            ]
          },
          "metadata": {}
        },
        {
          "output_type": "display_data",
          "data": {
            "text/plain": [
              "<IPython.core.display.Javascript object>"
            ],
            "application/javascript": [
              "\n",
              "\n",
              "    var elementsToHide = document.querySelectorAll(\".display_data\");\n",
              "\n",
              "    elementsToHide.forEach(function(element) {\n",
              "        element.style.display = \"none\";\n",
              "    });\n",
              "    "
            ]
          },
          "metadata": {}
        },
        {
          "output_type": "display_data",
          "data": {
            "text/plain": [
              "<IPython.core.display.Javascript object>"
            ],
            "application/javascript": [
              "\n",
              "\n",
              "    var elementsToHide = document.querySelectorAll(\".display_data\");\n",
              "\n",
              "    elementsToHide.forEach(function(element) {\n",
              "        element.style.display = \"none\";\n",
              "    });\n",
              "    "
            ]
          },
          "metadata": {}
        },
        {
          "output_type": "display_data",
          "data": {
            "text/plain": [
              "<IPython.core.display.Javascript object>"
            ],
            "application/javascript": [
              "\n",
              "\n",
              "    var elementsToHide = document.querySelectorAll(\".display_data\");\n",
              "\n",
              "    elementsToHide.forEach(function(element) {\n",
              "        element.style.display = \"none\";\n",
              "    });\n",
              "    "
            ]
          },
          "metadata": {}
        },
        {
          "output_type": "display_data",
          "data": {
            "text/plain": [
              "<IPython.core.display.Javascript object>"
            ],
            "application/javascript": [
              "\n",
              "\n",
              "    var elementsToHide = document.querySelectorAll(\".display_data\");\n",
              "\n",
              "    elementsToHide.forEach(function(element) {\n",
              "        element.style.display = \"none\";\n",
              "    });\n",
              "    "
            ]
          },
          "metadata": {}
        },
        {
          "output_type": "display_data",
          "data": {
            "text/plain": [
              "<IPython.core.display.Javascript object>"
            ],
            "application/javascript": [
              "\n",
              "\n",
              "    var elementsToHide = document.querySelectorAll(\".display_data\");\n",
              "\n",
              "    elementsToHide.forEach(function(element) {\n",
              "        element.style.display = \"none\";\n",
              "    });\n",
              "    "
            ]
          },
          "metadata": {}
        },
        {
          "output_type": "display_data",
          "data": {
            "text/plain": [
              "<IPython.core.display.Javascript object>"
            ],
            "application/javascript": [
              "\n",
              "\n",
              "    var elementsToHide = document.querySelectorAll(\".display_data\");\n",
              "\n",
              "    elementsToHide.forEach(function(element) {\n",
              "        element.style.display = \"none\";\n",
              "    });\n",
              "    "
            ]
          },
          "metadata": {}
        },
        {
          "output_type": "display_data",
          "data": {
            "text/plain": [
              "<IPython.core.display.Javascript object>"
            ],
            "application/javascript": [
              "\n",
              "\n",
              "    var elementsToHide = document.querySelectorAll(\".display_data\");\n",
              "\n",
              "    elementsToHide.forEach(function(element) {\n",
              "        element.style.display = \"none\";\n",
              "    });\n",
              "    "
            ]
          },
          "metadata": {}
        },
        {
          "output_type": "display_data",
          "data": {
            "text/plain": [
              "<IPython.core.display.Javascript object>"
            ],
            "application/javascript": [
              "\n",
              "\n",
              "    var elementsToHide = document.querySelectorAll(\".display_data\");\n",
              "\n",
              "    elementsToHide.forEach(function(element) {\n",
              "        element.style.display = \"none\";\n",
              "    });\n",
              "    "
            ]
          },
          "metadata": {}
        },
        {
          "output_type": "display_data",
          "data": {
            "text/plain": [
              "<IPython.core.display.Javascript object>"
            ],
            "application/javascript": [
              "\n",
              "\n",
              "    var elementsToHide = document.querySelectorAll(\".display_data\");\n",
              "\n",
              "    elementsToHide.forEach(function(element) {\n",
              "        element.style.display = \"none\";\n",
              "    });\n",
              "    "
            ]
          },
          "metadata": {}
        },
        {
          "output_type": "display_data",
          "data": {
            "text/plain": [
              "<IPython.core.display.Javascript object>"
            ],
            "application/javascript": [
              "\n",
              "\n",
              "    var elementsToHide = document.querySelectorAll(\".display_data\");\n",
              "\n",
              "    elementsToHide.forEach(function(element) {\n",
              "        element.style.display = \"none\";\n",
              "    });\n",
              "    "
            ]
          },
          "metadata": {}
        },
        {
          "output_type": "display_data",
          "data": {
            "text/plain": [
              "<IPython.core.display.Javascript object>"
            ],
            "application/javascript": [
              "\n",
              "\n",
              "    var elementsToHide = document.querySelectorAll(\".display_data\");\n",
              "\n",
              "    elementsToHide.forEach(function(element) {\n",
              "        element.style.display = \"none\";\n",
              "    });\n",
              "    "
            ]
          },
          "metadata": {}
        },
        {
          "output_type": "display_data",
          "data": {
            "text/plain": [
              "<IPython.core.display.Javascript object>"
            ],
            "application/javascript": [
              "\n",
              "\n",
              "    var elementsToHide = document.querySelectorAll(\".display_data\");\n",
              "\n",
              "    elementsToHide.forEach(function(element) {\n",
              "        element.style.display = \"none\";\n",
              "    });\n",
              "    "
            ]
          },
          "metadata": {}
        },
        {
          "output_type": "display_data",
          "data": {
            "text/plain": [
              "<IPython.core.display.Javascript object>"
            ],
            "application/javascript": [
              "\n",
              "\n",
              "    var elementsToHide = document.querySelectorAll(\".display_data\");\n",
              "\n",
              "    elementsToHide.forEach(function(element) {\n",
              "        element.style.display = \"none\";\n",
              "    });\n",
              "    "
            ]
          },
          "metadata": {}
        },
        {
          "output_type": "display_data",
          "data": {
            "text/plain": [
              "<IPython.core.display.Javascript object>"
            ],
            "application/javascript": [
              "\n",
              "\n",
              "    var elementsToHide = document.querySelectorAll(\".display_data\");\n",
              "\n",
              "    elementsToHide.forEach(function(element) {\n",
              "        element.style.display = \"none\";\n",
              "    });\n",
              "    "
            ]
          },
          "metadata": {}
        },
        {
          "output_type": "display_data",
          "data": {
            "text/plain": [
              "<IPython.core.display.Javascript object>"
            ],
            "application/javascript": [
              "\n",
              "\n",
              "    var elementsToHide = document.querySelectorAll(\".display_data\");\n",
              "\n",
              "    elementsToHide.forEach(function(element) {\n",
              "        element.style.display = \"none\";\n",
              "    });\n",
              "    "
            ]
          },
          "metadata": {}
        },
        {
          "output_type": "display_data",
          "data": {
            "text/plain": [
              "<IPython.core.display.Javascript object>"
            ],
            "application/javascript": [
              "\n",
              "\n",
              "    var elementsToHide = document.querySelectorAll(\".display_data\");\n",
              "\n",
              "    elementsToHide.forEach(function(element) {\n",
              "        element.style.display = \"none\";\n",
              "    });\n",
              "    "
            ]
          },
          "metadata": {}
        },
        {
          "output_type": "display_data",
          "data": {
            "text/plain": [
              "<IPython.core.display.Javascript object>"
            ],
            "application/javascript": [
              "\n",
              "\n",
              "    var elementsToHide = document.querySelectorAll(\".display_data\");\n",
              "\n",
              "    elementsToHide.forEach(function(element) {\n",
              "        element.style.display = \"none\";\n",
              "    });\n",
              "    "
            ]
          },
          "metadata": {}
        },
        {
          "output_type": "display_data",
          "data": {
            "text/plain": [
              "<IPython.core.display.Javascript object>"
            ],
            "application/javascript": [
              "\n",
              "\n",
              "    var elementsToHide = document.querySelectorAll(\".display_data\");\n",
              "\n",
              "    elementsToHide.forEach(function(element) {\n",
              "        element.style.display = \"none\";\n",
              "    });\n",
              "    "
            ]
          },
          "metadata": {}
        },
        {
          "output_type": "display_data",
          "data": {
            "text/plain": [
              "<IPython.core.display.Javascript object>"
            ],
            "application/javascript": [
              "\n",
              "\n",
              "    var elementsToHide = document.querySelectorAll(\".display_data\");\n",
              "\n",
              "    elementsToHide.forEach(function(element) {\n",
              "        element.style.display = \"none\";\n",
              "    });\n",
              "    "
            ]
          },
          "metadata": {}
        },
        {
          "output_type": "display_data",
          "data": {
            "text/plain": [
              "<IPython.core.display.Javascript object>"
            ],
            "application/javascript": [
              "\n",
              "\n",
              "    var elementsToHide = document.querySelectorAll(\".display_data\");\n",
              "\n",
              "    elementsToHide.forEach(function(element) {\n",
              "        element.style.display = \"none\";\n",
              "    });\n",
              "    "
            ]
          },
          "metadata": {}
        },
        {
          "output_type": "display_data",
          "data": {
            "text/plain": [
              "<IPython.core.display.Javascript object>"
            ],
            "application/javascript": [
              "\n",
              "\n",
              "    var elementsToHide = document.querySelectorAll(\".display_data\");\n",
              "\n",
              "    elementsToHide.forEach(function(element) {\n",
              "        element.style.display = \"none\";\n",
              "    });\n",
              "    "
            ]
          },
          "metadata": {}
        },
        {
          "output_type": "display_data",
          "data": {
            "text/plain": [
              "<IPython.core.display.Javascript object>"
            ],
            "application/javascript": [
              "\n",
              "\n",
              "    var elementsToHide = document.querySelectorAll(\".display_data\");\n",
              "\n",
              "    elementsToHide.forEach(function(element) {\n",
              "        element.style.display = \"none\";\n",
              "    });\n",
              "    "
            ]
          },
          "metadata": {}
        },
        {
          "output_type": "display_data",
          "data": {
            "text/plain": [
              "<IPython.core.display.Javascript object>"
            ],
            "application/javascript": [
              "\n",
              "\n",
              "    var elementsToHide = document.querySelectorAll(\".display_data\");\n",
              "\n",
              "    elementsToHide.forEach(function(element) {\n",
              "        element.style.display = \"none\";\n",
              "    });\n",
              "    "
            ]
          },
          "metadata": {}
        },
        {
          "output_type": "display_data",
          "data": {
            "text/plain": [
              "<IPython.core.display.Javascript object>"
            ],
            "application/javascript": [
              "\n",
              "\n",
              "    var elementsToHide = document.querySelectorAll(\".display_data\");\n",
              "\n",
              "    elementsToHide.forEach(function(element) {\n",
              "        element.style.display = \"none\";\n",
              "    });\n",
              "    "
            ]
          },
          "metadata": {}
        },
        {
          "output_type": "display_data",
          "data": {
            "text/plain": [
              "<IPython.core.display.Javascript object>"
            ],
            "application/javascript": [
              "\n",
              "\n",
              "    var elementsToHide = document.querySelectorAll(\".display_data\");\n",
              "\n",
              "    elementsToHide.forEach(function(element) {\n",
              "        element.style.display = \"none\";\n",
              "    });\n",
              "    "
            ]
          },
          "metadata": {}
        },
        {
          "output_type": "display_data",
          "data": {
            "text/plain": [
              "<IPython.core.display.Javascript object>"
            ],
            "application/javascript": [
              "\n",
              "\n",
              "    var elementsToHide = document.querySelectorAll(\".display_data\");\n",
              "\n",
              "    elementsToHide.forEach(function(element) {\n",
              "        element.style.display = \"none\";\n",
              "    });\n",
              "    "
            ]
          },
          "metadata": {}
        },
        {
          "output_type": "display_data",
          "data": {
            "text/plain": [
              "<IPython.core.display.Javascript object>"
            ],
            "application/javascript": [
              "\n",
              "\n",
              "    var elementsToHide = document.querySelectorAll(\".display_data\");\n",
              "\n",
              "    elementsToHide.forEach(function(element) {\n",
              "        element.style.display = \"none\";\n",
              "    });\n",
              "    "
            ]
          },
          "metadata": {}
        },
        {
          "output_type": "display_data",
          "data": {
            "text/plain": [
              "<IPython.core.display.Javascript object>"
            ],
            "application/javascript": [
              "\n",
              "\n",
              "    var elementsToHide = document.querySelectorAll(\".display_data\");\n",
              "\n",
              "    elementsToHide.forEach(function(element) {\n",
              "        element.style.display = \"none\";\n",
              "    });\n",
              "    "
            ]
          },
          "metadata": {}
        },
        {
          "output_type": "display_data",
          "data": {
            "text/plain": [
              "<IPython.core.display.Javascript object>"
            ],
            "application/javascript": [
              "\n",
              "\n",
              "    var elementsToHide = document.querySelectorAll(\".display_data\");\n",
              "\n",
              "    elementsToHide.forEach(function(element) {\n",
              "        element.style.display = \"none\";\n",
              "    });\n",
              "    "
            ]
          },
          "metadata": {}
        },
        {
          "output_type": "display_data",
          "data": {
            "text/plain": [
              "<IPython.core.display.Javascript object>"
            ],
            "application/javascript": [
              "\n",
              "\n",
              "    var elementsToHide = document.querySelectorAll(\".display_data\");\n",
              "\n",
              "    elementsToHide.forEach(function(element) {\n",
              "        element.style.display = \"none\";\n",
              "    });\n",
              "    "
            ]
          },
          "metadata": {}
        },
        {
          "output_type": "display_data",
          "data": {
            "text/plain": [
              "<IPython.core.display.Javascript object>"
            ],
            "application/javascript": [
              "\n",
              "\n",
              "    var elementsToHide = document.querySelectorAll(\".display_data\");\n",
              "\n",
              "    elementsToHide.forEach(function(element) {\n",
              "        element.style.display = \"none\";\n",
              "    });\n",
              "    "
            ]
          },
          "metadata": {}
        },
        {
          "output_type": "display_data",
          "data": {
            "text/plain": [
              "<IPython.core.display.Javascript object>"
            ],
            "application/javascript": [
              "\n",
              "\n",
              "    var elementsToHide = document.querySelectorAll(\".display_data\");\n",
              "\n",
              "    elementsToHide.forEach(function(element) {\n",
              "        element.style.display = \"none\";\n",
              "    });\n",
              "    "
            ]
          },
          "metadata": {}
        },
        {
          "output_type": "display_data",
          "data": {
            "text/plain": [
              "<IPython.core.display.Javascript object>"
            ],
            "application/javascript": [
              "\n",
              "\n",
              "    var elementsToHide = document.querySelectorAll(\".display_data\");\n",
              "\n",
              "    elementsToHide.forEach(function(element) {\n",
              "        element.style.display = \"none\";\n",
              "    });\n",
              "    "
            ]
          },
          "metadata": {}
        },
        {
          "output_type": "display_data",
          "data": {
            "text/plain": [
              "<IPython.core.display.Javascript object>"
            ],
            "application/javascript": [
              "\n",
              "\n",
              "    var elementsToHide = document.querySelectorAll(\".display_data\");\n",
              "\n",
              "    elementsToHide.forEach(function(element) {\n",
              "        element.style.display = \"none\";\n",
              "    });\n",
              "    "
            ]
          },
          "metadata": {}
        },
        {
          "output_type": "display_data",
          "data": {
            "text/plain": [
              "<IPython.core.display.Javascript object>"
            ],
            "application/javascript": [
              "\n",
              "\n",
              "    var elementsToHide = document.querySelectorAll(\".display_data\");\n",
              "\n",
              "    elementsToHide.forEach(function(element) {\n",
              "        element.style.display = \"none\";\n",
              "    });\n",
              "    "
            ]
          },
          "metadata": {}
        },
        {
          "output_type": "display_data",
          "data": {
            "text/plain": [
              "<IPython.core.display.Javascript object>"
            ],
            "application/javascript": [
              "\n",
              "\n",
              "    var elementsToHide = document.querySelectorAll(\".display_data\");\n",
              "\n",
              "    elementsToHide.forEach(function(element) {\n",
              "        element.style.display = \"none\";\n",
              "    });\n",
              "    "
            ]
          },
          "metadata": {}
        },
        {
          "output_type": "display_data",
          "data": {
            "text/plain": [
              "<IPython.core.display.Javascript object>"
            ],
            "application/javascript": [
              "\n",
              "\n",
              "    var elementsToHide = document.querySelectorAll(\".display_data\");\n",
              "\n",
              "    elementsToHide.forEach(function(element) {\n",
              "        element.style.display = \"none\";\n",
              "    });\n",
              "    "
            ]
          },
          "metadata": {}
        },
        {
          "output_type": "display_data",
          "data": {
            "text/plain": [
              "<IPython.core.display.Javascript object>"
            ],
            "application/javascript": [
              "\n",
              "\n",
              "    var elementsToHide = document.querySelectorAll(\".display_data\");\n",
              "\n",
              "    elementsToHide.forEach(function(element) {\n",
              "        element.style.display = \"none\";\n",
              "    });\n",
              "    "
            ]
          },
          "metadata": {}
        },
        {
          "output_type": "display_data",
          "data": {
            "text/plain": [
              "<IPython.core.display.Javascript object>"
            ],
            "application/javascript": [
              "\n",
              "\n",
              "    var elementsToHide = document.querySelectorAll(\".display_data\");\n",
              "\n",
              "    elementsToHide.forEach(function(element) {\n",
              "        element.style.display = \"none\";\n",
              "    });\n",
              "    "
            ]
          },
          "metadata": {}
        },
        {
          "output_type": "display_data",
          "data": {
            "text/plain": [
              "<IPython.core.display.Javascript object>"
            ],
            "application/javascript": [
              "\n",
              "\n",
              "    var elementsToHide = document.querySelectorAll(\".display_data\");\n",
              "\n",
              "    elementsToHide.forEach(function(element) {\n",
              "        element.style.display = \"none\";\n",
              "    });\n",
              "    "
            ]
          },
          "metadata": {}
        },
        {
          "output_type": "display_data",
          "data": {
            "text/plain": [
              "<IPython.core.display.Javascript object>"
            ],
            "application/javascript": [
              "\n",
              "\n",
              "    var elementsToHide = document.querySelectorAll(\".display_data\");\n",
              "\n",
              "    elementsToHide.forEach(function(element) {\n",
              "        element.style.display = \"none\";\n",
              "    });\n",
              "    "
            ]
          },
          "metadata": {}
        },
        {
          "output_type": "display_data",
          "data": {
            "text/plain": [
              "<IPython.core.display.Javascript object>"
            ],
            "application/javascript": [
              "\n",
              "\n",
              "    var elementsToHide = document.querySelectorAll(\".display_data\");\n",
              "\n",
              "    elementsToHide.forEach(function(element) {\n",
              "        element.style.display = \"none\";\n",
              "    });\n",
              "    "
            ]
          },
          "metadata": {}
        },
        {
          "output_type": "display_data",
          "data": {
            "text/plain": [
              "<IPython.core.display.Javascript object>"
            ],
            "application/javascript": [
              "\n",
              "\n",
              "    var elementsToHide = document.querySelectorAll(\".display_data\");\n",
              "\n",
              "    elementsToHide.forEach(function(element) {\n",
              "        element.style.display = \"none\";\n",
              "    });\n",
              "    "
            ]
          },
          "metadata": {}
        },
        {
          "output_type": "display_data",
          "data": {
            "text/plain": [
              "<IPython.core.display.Javascript object>"
            ],
            "application/javascript": [
              "\n",
              "\n",
              "    var elementsToHide = document.querySelectorAll(\".display_data\");\n",
              "\n",
              "    elementsToHide.forEach(function(element) {\n",
              "        element.style.display = \"none\";\n",
              "    });\n",
              "    "
            ]
          },
          "metadata": {}
        },
        {
          "output_type": "display_data",
          "data": {
            "text/plain": [
              "<IPython.core.display.Javascript object>"
            ],
            "application/javascript": [
              "\n",
              "\n",
              "    var elementsToHide = document.querySelectorAll(\".display_data\");\n",
              "\n",
              "    elementsToHide.forEach(function(element) {\n",
              "        element.style.display = \"none\";\n",
              "    });\n",
              "    "
            ]
          },
          "metadata": {}
        },
        {
          "output_type": "display_data",
          "data": {
            "text/plain": [
              "<IPython.core.display.Javascript object>"
            ],
            "application/javascript": [
              "\n",
              "\n",
              "    var elementsToHide = document.querySelectorAll(\".display_data\");\n",
              "\n",
              "    elementsToHide.forEach(function(element) {\n",
              "        element.style.display = \"none\";\n",
              "    });\n",
              "    "
            ]
          },
          "metadata": {}
        },
        {
          "output_type": "display_data",
          "data": {
            "text/plain": [
              "<IPython.core.display.Javascript object>"
            ],
            "application/javascript": [
              "\n",
              "\n",
              "    var elementsToHide = document.querySelectorAll(\".display_data\");\n",
              "\n",
              "    elementsToHide.forEach(function(element) {\n",
              "        element.style.display = \"none\";\n",
              "    });\n",
              "    "
            ]
          },
          "metadata": {}
        },
        {
          "output_type": "display_data",
          "data": {
            "text/plain": [
              "<IPython.core.display.Javascript object>"
            ],
            "application/javascript": [
              "\n",
              "\n",
              "    var elementsToHide = document.querySelectorAll(\".display_data\");\n",
              "\n",
              "    elementsToHide.forEach(function(element) {\n",
              "        element.style.display = \"none\";\n",
              "    });\n",
              "    "
            ]
          },
          "metadata": {}
        },
        {
          "output_type": "display_data",
          "data": {
            "text/plain": [
              "<IPython.core.display.Javascript object>"
            ],
            "application/javascript": [
              "\n",
              "\n",
              "    var elementsToHide = document.querySelectorAll(\".display_data\");\n",
              "\n",
              "    elementsToHide.forEach(function(element) {\n",
              "        element.style.display = \"none\";\n",
              "    });\n",
              "    "
            ]
          },
          "metadata": {}
        },
        {
          "output_type": "display_data",
          "data": {
            "text/plain": [
              "<IPython.core.display.Javascript object>"
            ],
            "application/javascript": [
              "\n",
              "\n",
              "    var elementsToHide = document.querySelectorAll(\".display_data\");\n",
              "\n",
              "    elementsToHide.forEach(function(element) {\n",
              "        element.style.display = \"none\";\n",
              "    });\n",
              "    "
            ]
          },
          "metadata": {}
        },
        {
          "output_type": "display_data",
          "data": {
            "text/plain": [
              "<IPython.core.display.Javascript object>"
            ],
            "application/javascript": [
              "\n",
              "\n",
              "    var elementsToHide = document.querySelectorAll(\".display_data\");\n",
              "\n",
              "    elementsToHide.forEach(function(element) {\n",
              "        element.style.display = \"none\";\n",
              "    });\n",
              "    "
            ]
          },
          "metadata": {}
        },
        {
          "output_type": "display_data",
          "data": {
            "text/plain": [
              "<IPython.core.display.Javascript object>"
            ],
            "application/javascript": [
              "\n",
              "\n",
              "    var elementsToHide = document.querySelectorAll(\".display_data\");\n",
              "\n",
              "    elementsToHide.forEach(function(element) {\n",
              "        element.style.display = \"none\";\n",
              "    });\n",
              "    "
            ]
          },
          "metadata": {}
        },
        {
          "output_type": "display_data",
          "data": {
            "text/plain": [
              "<IPython.core.display.Javascript object>"
            ],
            "application/javascript": [
              "\n",
              "\n",
              "    var elementsToHide = document.querySelectorAll(\".display_data\");\n",
              "\n",
              "    elementsToHide.forEach(function(element) {\n",
              "        element.style.display = \"none\";\n",
              "    });\n",
              "    "
            ]
          },
          "metadata": {}
        },
        {
          "output_type": "display_data",
          "data": {
            "text/plain": [
              "<IPython.core.display.Javascript object>"
            ],
            "application/javascript": [
              "\n",
              "\n",
              "    var elementsToHide = document.querySelectorAll(\".display_data\");\n",
              "\n",
              "    elementsToHide.forEach(function(element) {\n",
              "        element.style.display = \"none\";\n",
              "    });\n",
              "    "
            ]
          },
          "metadata": {}
        },
        {
          "output_type": "display_data",
          "data": {
            "text/plain": [
              "<IPython.core.display.Javascript object>"
            ],
            "application/javascript": [
              "\n",
              "\n",
              "    var elementsToHide = document.querySelectorAll(\".display_data\");\n",
              "\n",
              "    elementsToHide.forEach(function(element) {\n",
              "        element.style.display = \"none\";\n",
              "    });\n",
              "    "
            ]
          },
          "metadata": {}
        },
        {
          "output_type": "display_data",
          "data": {
            "text/plain": [
              "<IPython.core.display.Javascript object>"
            ],
            "application/javascript": [
              "\n",
              "\n",
              "    var elementsToHide = document.querySelectorAll(\".display_data\");\n",
              "\n",
              "    elementsToHide.forEach(function(element) {\n",
              "        element.style.display = \"none\";\n",
              "    });\n",
              "    "
            ]
          },
          "metadata": {}
        },
        {
          "output_type": "display_data",
          "data": {
            "text/plain": [
              "<IPython.core.display.Javascript object>"
            ],
            "application/javascript": [
              "\n",
              "\n",
              "    var elementsToHide = document.querySelectorAll(\".display_data\");\n",
              "\n",
              "    elementsToHide.forEach(function(element) {\n",
              "        element.style.display = \"none\";\n",
              "    });\n",
              "    "
            ]
          },
          "metadata": {}
        },
        {
          "output_type": "display_data",
          "data": {
            "text/plain": [
              "<IPython.core.display.Javascript object>"
            ],
            "application/javascript": [
              "\n",
              "\n",
              "    var elementsToHide = document.querySelectorAll(\".display_data\");\n",
              "\n",
              "    elementsToHide.forEach(function(element) {\n",
              "        element.style.display = \"none\";\n",
              "    });\n",
              "    "
            ]
          },
          "metadata": {}
        },
        {
          "output_type": "display_data",
          "data": {
            "text/plain": [
              "<IPython.core.display.Javascript object>"
            ],
            "application/javascript": [
              "\n",
              "\n",
              "    var elementsToHide = document.querySelectorAll(\".display_data\");\n",
              "\n",
              "    elementsToHide.forEach(function(element) {\n",
              "        element.style.display = \"none\";\n",
              "    });\n",
              "    "
            ]
          },
          "metadata": {}
        },
        {
          "output_type": "display_data",
          "data": {
            "text/plain": [
              "<IPython.core.display.Javascript object>"
            ],
            "application/javascript": [
              "\n",
              "\n",
              "    var elementsToHide = document.querySelectorAll(\".display_data\");\n",
              "\n",
              "    elementsToHide.forEach(function(element) {\n",
              "        element.style.display = \"none\";\n",
              "    });\n",
              "    "
            ]
          },
          "metadata": {}
        },
        {
          "output_type": "display_data",
          "data": {
            "text/plain": [
              "<IPython.core.display.Javascript object>"
            ],
            "application/javascript": [
              "\n",
              "\n",
              "    var elementsToHide = document.querySelectorAll(\".display_data\");\n",
              "\n",
              "    elementsToHide.forEach(function(element) {\n",
              "        element.style.display = \"none\";\n",
              "    });\n",
              "    "
            ]
          },
          "metadata": {}
        },
        {
          "output_type": "display_data",
          "data": {
            "text/plain": [
              "<IPython.core.display.Javascript object>"
            ],
            "application/javascript": [
              "\n",
              "\n",
              "    var elementsToHide = document.querySelectorAll(\".display_data\");\n",
              "\n",
              "    elementsToHide.forEach(function(element) {\n",
              "        element.style.display = \"none\";\n",
              "    });\n",
              "    "
            ]
          },
          "metadata": {}
        },
        {
          "output_type": "display_data",
          "data": {
            "text/plain": [
              "<IPython.core.display.Javascript object>"
            ],
            "application/javascript": [
              "\n",
              "\n",
              "    var elementsToHide = document.querySelectorAll(\".display_data\");\n",
              "\n",
              "    elementsToHide.forEach(function(element) {\n",
              "        element.style.display = \"none\";\n",
              "    });\n",
              "    "
            ]
          },
          "metadata": {}
        },
        {
          "output_type": "display_data",
          "data": {
            "text/plain": [
              "<IPython.core.display.Javascript object>"
            ],
            "application/javascript": [
              "\n",
              "\n",
              "    var elementsToHide = document.querySelectorAll(\".display_data\");\n",
              "\n",
              "    elementsToHide.forEach(function(element) {\n",
              "        element.style.display = \"none\";\n",
              "    });\n",
              "    "
            ]
          },
          "metadata": {}
        },
        {
          "output_type": "display_data",
          "data": {
            "text/plain": [
              "<IPython.core.display.Javascript object>"
            ],
            "application/javascript": [
              "\n",
              "\n",
              "    var elementsToHide = document.querySelectorAll(\".display_data\");\n",
              "\n",
              "    elementsToHide.forEach(function(element) {\n",
              "        element.style.display = \"none\";\n",
              "    });\n",
              "    "
            ]
          },
          "metadata": {}
        },
        {
          "output_type": "display_data",
          "data": {
            "text/plain": [
              "<IPython.core.display.Javascript object>"
            ],
            "application/javascript": [
              "\n",
              "\n",
              "    var elementsToHide = document.querySelectorAll(\".display_data\");\n",
              "\n",
              "    elementsToHide.forEach(function(element) {\n",
              "        element.style.display = \"none\";\n",
              "    });\n",
              "    "
            ]
          },
          "metadata": {}
        },
        {
          "output_type": "display_data",
          "data": {
            "text/plain": [
              "<IPython.core.display.Javascript object>"
            ],
            "application/javascript": [
              "\n",
              "\n",
              "    var elementsToHide = document.querySelectorAll(\".display_data\");\n",
              "\n",
              "    elementsToHide.forEach(function(element) {\n",
              "        element.style.display = \"none\";\n",
              "    });\n",
              "    "
            ]
          },
          "metadata": {}
        },
        {
          "output_type": "display_data",
          "data": {
            "text/plain": [
              "<IPython.core.display.Javascript object>"
            ],
            "application/javascript": [
              "\n",
              "\n",
              "    var elementsToHide = document.querySelectorAll(\".display_data\");\n",
              "\n",
              "    elementsToHide.forEach(function(element) {\n",
              "        element.style.display = \"none\";\n",
              "    });\n",
              "    "
            ]
          },
          "metadata": {}
        },
        {
          "output_type": "display_data",
          "data": {
            "text/plain": [
              "<IPython.core.display.Javascript object>"
            ],
            "application/javascript": [
              "\n",
              "\n",
              "    var elementsToHide = document.querySelectorAll(\".display_data\");\n",
              "\n",
              "    elementsToHide.forEach(function(element) {\n",
              "        element.style.display = \"none\";\n",
              "    });\n",
              "    "
            ]
          },
          "metadata": {}
        },
        {
          "output_type": "display_data",
          "data": {
            "text/plain": [
              "<IPython.core.display.Javascript object>"
            ],
            "application/javascript": [
              "\n",
              "\n",
              "    var elementsToHide = document.querySelectorAll(\".display_data\");\n",
              "\n",
              "    elementsToHide.forEach(function(element) {\n",
              "        element.style.display = \"none\";\n",
              "    });\n",
              "    "
            ]
          },
          "metadata": {}
        },
        {
          "output_type": "display_data",
          "data": {
            "text/plain": [
              "<IPython.core.display.Javascript object>"
            ],
            "application/javascript": [
              "\n",
              "\n",
              "    var elementsToHide = document.querySelectorAll(\".display_data\");\n",
              "\n",
              "    elementsToHide.forEach(function(element) {\n",
              "        element.style.display = \"none\";\n",
              "    });\n",
              "    "
            ]
          },
          "metadata": {}
        },
        {
          "output_type": "display_data",
          "data": {
            "text/plain": [
              "<IPython.core.display.Javascript object>"
            ],
            "application/javascript": [
              "\n",
              "\n",
              "    var elementsToHide = document.querySelectorAll(\".display_data\");\n",
              "\n",
              "    elementsToHide.forEach(function(element) {\n",
              "        element.style.display = \"none\";\n",
              "    });\n",
              "    "
            ]
          },
          "metadata": {}
        },
        {
          "output_type": "display_data",
          "data": {
            "text/plain": [
              "<IPython.core.display.Javascript object>"
            ],
            "application/javascript": [
              "\n",
              "\n",
              "    var elementsToHide = document.querySelectorAll(\".display_data\");\n",
              "\n",
              "    elementsToHide.forEach(function(element) {\n",
              "        element.style.display = \"none\";\n",
              "    });\n",
              "    "
            ]
          },
          "metadata": {}
        },
        {
          "output_type": "display_data",
          "data": {
            "text/plain": [
              "<IPython.core.display.Javascript object>"
            ],
            "application/javascript": [
              "\n",
              "\n",
              "    var elementsToHide = document.querySelectorAll(\".display_data\");\n",
              "\n",
              "    elementsToHide.forEach(function(element) {\n",
              "        element.style.display = \"none\";\n",
              "    });\n",
              "    "
            ]
          },
          "metadata": {}
        },
        {
          "output_type": "display_data",
          "data": {
            "text/plain": [
              "<IPython.core.display.Javascript object>"
            ],
            "application/javascript": [
              "\n",
              "\n",
              "    var elementsToHide = document.querySelectorAll(\".display_data\");\n",
              "\n",
              "    elementsToHide.forEach(function(element) {\n",
              "        element.style.display = \"none\";\n",
              "    });\n",
              "    "
            ]
          },
          "metadata": {}
        },
        {
          "output_type": "display_data",
          "data": {
            "text/plain": [
              "<IPython.core.display.Javascript object>"
            ],
            "application/javascript": [
              "\n",
              "\n",
              "    var elementsToHide = document.querySelectorAll(\".display_data\");\n",
              "\n",
              "    elementsToHide.forEach(function(element) {\n",
              "        element.style.display = \"none\";\n",
              "    });\n",
              "    "
            ]
          },
          "metadata": {}
        },
        {
          "output_type": "display_data",
          "data": {
            "text/plain": [
              "<IPython.core.display.Javascript object>"
            ],
            "application/javascript": [
              "\n",
              "\n",
              "    var elementsToHide = document.querySelectorAll(\".display_data\");\n",
              "\n",
              "    elementsToHide.forEach(function(element) {\n",
              "        element.style.display = \"none\";\n",
              "    });\n",
              "    "
            ]
          },
          "metadata": {}
        },
        {
          "output_type": "display_data",
          "data": {
            "text/plain": [
              "<IPython.core.display.Javascript object>"
            ],
            "application/javascript": [
              "\n",
              "\n",
              "    var elementsToHide = document.querySelectorAll(\".display_data\");\n",
              "\n",
              "    elementsToHide.forEach(function(element) {\n",
              "        element.style.display = \"none\";\n",
              "    });\n",
              "    "
            ]
          },
          "metadata": {}
        },
        {
          "output_type": "display_data",
          "data": {
            "text/plain": [
              "<IPython.core.display.Javascript object>"
            ],
            "application/javascript": [
              "\n",
              "\n",
              "    var elementsToHide = document.querySelectorAll(\".display_data\");\n",
              "\n",
              "    elementsToHide.forEach(function(element) {\n",
              "        element.style.display = \"none\";\n",
              "    });\n",
              "    "
            ]
          },
          "metadata": {}
        },
        {
          "output_type": "display_data",
          "data": {
            "text/plain": [
              "<IPython.core.display.Javascript object>"
            ],
            "application/javascript": [
              "\n",
              "\n",
              "    var elementsToHide = document.querySelectorAll(\".display_data\");\n",
              "\n",
              "    elementsToHide.forEach(function(element) {\n",
              "        element.style.display = \"none\";\n",
              "    });\n",
              "    "
            ]
          },
          "metadata": {}
        },
        {
          "output_type": "display_data",
          "data": {
            "text/plain": [
              "<IPython.core.display.Javascript object>"
            ],
            "application/javascript": [
              "\n",
              "\n",
              "    var elementsToHide = document.querySelectorAll(\".display_data\");\n",
              "\n",
              "    elementsToHide.forEach(function(element) {\n",
              "        element.style.display = \"none\";\n",
              "    });\n",
              "    "
            ]
          },
          "metadata": {}
        },
        {
          "output_type": "display_data",
          "data": {
            "text/plain": [
              "<IPython.core.display.Javascript object>"
            ],
            "application/javascript": [
              "\n",
              "\n",
              "    var elementsToHide = document.querySelectorAll(\".display_data\");\n",
              "\n",
              "    elementsToHide.forEach(function(element) {\n",
              "        element.style.display = \"none\";\n",
              "    });\n",
              "    "
            ]
          },
          "metadata": {}
        },
        {
          "output_type": "display_data",
          "data": {
            "text/plain": [
              "<IPython.core.display.Javascript object>"
            ],
            "application/javascript": [
              "\n",
              "\n",
              "    var elementsToHide = document.querySelectorAll(\".display_data\");\n",
              "\n",
              "    elementsToHide.forEach(function(element) {\n",
              "        element.style.display = \"none\";\n",
              "    });\n",
              "    "
            ]
          },
          "metadata": {}
        },
        {
          "output_type": "display_data",
          "data": {
            "text/plain": [
              "<IPython.core.display.Javascript object>"
            ],
            "application/javascript": [
              "\n",
              "\n",
              "    var elementsToHide = document.querySelectorAll(\".display_data\");\n",
              "\n",
              "    elementsToHide.forEach(function(element) {\n",
              "        element.style.display = \"none\";\n",
              "    });\n",
              "    "
            ]
          },
          "metadata": {}
        },
        {
          "output_type": "display_data",
          "data": {
            "text/plain": [
              "<IPython.core.display.Javascript object>"
            ],
            "application/javascript": [
              "\n",
              "\n",
              "    var elementsToHide = document.querySelectorAll(\".display_data\");\n",
              "\n",
              "    elementsToHide.forEach(function(element) {\n",
              "        element.style.display = \"none\";\n",
              "    });\n",
              "    "
            ]
          },
          "metadata": {}
        },
        {
          "output_type": "display_data",
          "data": {
            "text/plain": [
              "<IPython.core.display.Javascript object>"
            ],
            "application/javascript": [
              "\n",
              "\n",
              "    var elementsToHide = document.querySelectorAll(\".display_data\");\n",
              "\n",
              "    elementsToHide.forEach(function(element) {\n",
              "        element.style.display = \"none\";\n",
              "    });\n",
              "    "
            ]
          },
          "metadata": {}
        },
        {
          "output_type": "display_data",
          "data": {
            "text/plain": [
              "<IPython.lib.display.Audio object>"
            ],
            "text/html": [
              "\n",
              "                <audio  controls=\"controls\" autoplay=\"autoplay\">\n",
              "                    <source src=\"data:audio/wav;base64,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\" type=\"audio/wav\" />\n",
              "                    Your browser does not support the audio element.\n",
              "                </audio>\n",
              "              "
            ]
          },
          "metadata": {}
        },
        {
          "output_type": "display_data",
          "data": {
            "text/plain": [
              "<IPython.core.display.Javascript object>"
            ],
            "application/javascript": [
              "\n",
              "\n",
              "    var elementsToHide = document.querySelectorAll(\".display_data\");\n",
              "\n",
              "    elementsToHide.forEach(function(element) {\n",
              "        element.style.display = \"none\";\n",
              "    });\n",
              "    "
            ]
          },
          "metadata": {}
        },
        {
          "output_type": "display_data",
          "data": {
            "text/plain": [
              "<IPython.lib.display.Audio object>"
            ],
            "text/html": [
              "\n",
              "                <audio  controls=\"controls\" autoplay=\"autoplay\">\n",
              "                    <source src=\"data:audio/wav;base64,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\" type=\"audio/wav\" />\n",
              "                    Your browser does not support the audio element.\n",
              "                </audio>\n",
              "              "
            ]
          },
          "metadata": {}
        },
        {
          "output_type": "display_data",
          "data": {
            "text/plain": [
              "<IPython.core.display.Javascript object>"
            ],
            "application/javascript": [
              "\n",
              "\n",
              "    var elementsToHide = document.querySelectorAll(\".display_data\");\n",
              "\n",
              "    elementsToHide.forEach(function(element) {\n",
              "        element.style.display = \"none\";\n",
              "    });\n",
              "    "
            ]
          },
          "metadata": {}
        },
        {
          "output_type": "display_data",
          "data": {
            "text/plain": [
              "<IPython.lib.display.Audio object>"
            ],
            "text/html": [
              "\n",
              "                <audio  controls=\"controls\" autoplay=\"autoplay\">\n",
              "                    <source src=\"data:audio/wav;base64,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\" type=\"audio/wav\" />\n",
              "                    Your browser does not support the audio element.\n",
              "                </audio>\n",
              "              "
            ]
          },
          "metadata": {}
        },
        {
          "output_type": "display_data",
          "data": {
            "text/plain": [
              "<IPython.core.display.Javascript object>"
            ],
            "application/javascript": [
              "\n",
              "\n",
              "    var elementsToHide = document.querySelectorAll(\".display_data\");\n",
              "\n",
              "    elementsToHide.forEach(function(element) {\n",
              "        element.style.display = \"none\";\n",
              "    });\n",
              "    "
            ]
          },
          "metadata": {}
        },
        {
          "output_type": "display_data",
          "data": {
            "text/plain": [
              "<IPython.core.display.Javascript object>"
            ],
            "application/javascript": [
              "\n",
              "\n",
              "    var elementsToHide = document.querySelectorAll(\".display_data\");\n",
              "\n",
              "    elementsToHide.forEach(function(element) {\n",
              "        element.style.display = \"none\";\n",
              "    });\n",
              "    "
            ]
          },
          "metadata": {}
        },
        {
          "output_type": "display_data",
          "data": {
            "text/plain": [
              "<IPython.core.display.Javascript object>"
            ],
            "application/javascript": [
              "\n",
              "\n",
              "    var elementsToHide = document.querySelectorAll(\".display_data\");\n",
              "\n",
              "    elementsToHide.forEach(function(element) {\n",
              "        element.style.display = \"none\";\n",
              "    });\n",
              "    "
            ]
          },
          "metadata": {}
        },
        {
          "output_type": "display_data",
          "data": {
            "text/plain": [
              "<IPython.core.display.Javascript object>"
            ],
            "application/javascript": [
              "\n",
              "\n",
              "    var elementsToHide = document.querySelectorAll(\".display_data\");\n",
              "\n",
              "    elementsToHide.forEach(function(element) {\n",
              "        element.style.display = \"none\";\n",
              "    });\n",
              "    "
            ]
          },
          "metadata": {}
        },
        {
          "output_type": "display_data",
          "data": {
            "text/plain": [
              "<IPython.core.display.Javascript object>"
            ],
            "application/javascript": [
              "\n",
              "\n",
              "    var elementsToHide = document.querySelectorAll(\".display_data\");\n",
              "\n",
              "    elementsToHide.forEach(function(element) {\n",
              "        element.style.display = \"none\";\n",
              "    });\n",
              "    "
            ]
          },
          "metadata": {}
        },
        {
          "output_type": "display_data",
          "data": {
            "text/plain": [
              "<IPython.core.display.Javascript object>"
            ],
            "application/javascript": [
              "\n",
              "\n",
              "    var elementsToHide = document.querySelectorAll(\".display_data\");\n",
              "\n",
              "    elementsToHide.forEach(function(element) {\n",
              "        element.style.display = \"none\";\n",
              "    });\n",
              "    "
            ]
          },
          "metadata": {}
        },
        {
          "output_type": "display_data",
          "data": {
            "text/plain": [
              "<IPython.lib.display.Audio object>"
            ],
            "text/html": [
              "\n",
              "                <audio  controls=\"controls\" autoplay=\"autoplay\">\n",
              "                    <source src=\"data:audio/wav;base64,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\" type=\"audio/wav\" />\n",
              "                    Your browser does not support the audio element.\n",
              "                </audio>\n",
              "              "
            ]
          },
          "metadata": {}
        },
        {
          "output_type": "display_data",
          "data": {
            "text/plain": [
              "<IPython.core.display.Javascript object>"
            ],
            "application/javascript": [
              "\n",
              "\n",
              "    var elementsToHide = document.querySelectorAll(\".display_data\");\n",
              "\n",
              "    elementsToHide.forEach(function(element) {\n",
              "        element.style.display = \"none\";\n",
              "    });\n",
              "    "
            ]
          },
          "metadata": {}
        },
        {
          "output_type": "display_data",
          "data": {
            "text/plain": [
              "<IPython.core.display.Javascript object>"
            ],
            "application/javascript": [
              "\n",
              "\n",
              "    var elementsToHide = document.querySelectorAll(\".display_data\");\n",
              "\n",
              "    elementsToHide.forEach(function(element) {\n",
              "        element.style.display = \"none\";\n",
              "    });\n",
              "    "
            ]
          },
          "metadata": {}
        },
        {
          "output_type": "display_data",
          "data": {
            "text/plain": [
              "<IPython.core.display.Javascript object>"
            ],
            "application/javascript": [
              "\n",
              "\n",
              "    var elementsToHide = document.querySelectorAll(\".display_data\");\n",
              "\n",
              "    elementsToHide.forEach(function(element) {\n",
              "        element.style.display = \"none\";\n",
              "    });\n",
              "    "
            ]
          },
          "metadata": {}
        },
        {
          "output_type": "display_data",
          "data": {
            "text/plain": [
              "<IPython.core.display.Javascript object>"
            ],
            "application/javascript": [
              "\n",
              "\n",
              "    var elementsToHide = document.querySelectorAll(\".display_data\");\n",
              "\n",
              "    elementsToHide.forEach(function(element) {\n",
              "        element.style.display = \"none\";\n",
              "    });\n",
              "    "
            ]
          },
          "metadata": {}
        },
        {
          "output_type": "display_data",
          "data": {
            "text/plain": [
              "<IPython.core.display.Javascript object>"
            ],
            "application/javascript": [
              "\n",
              "\n",
              "    var elementsToHide = document.querySelectorAll(\".display_data\");\n",
              "\n",
              "    elementsToHide.forEach(function(element) {\n",
              "        element.style.display = \"none\";\n",
              "    });\n",
              "    "
            ]
          },
          "metadata": {}
        },
        {
          "output_type": "display_data",
          "data": {
            "text/plain": [
              "<IPython.core.display.Javascript object>"
            ],
            "application/javascript": [
              "\n",
              "\n",
              "    var elementsToHide = document.querySelectorAll(\".display_data\");\n",
              "\n",
              "    elementsToHide.forEach(function(element) {\n",
              "        element.style.display = \"none\";\n",
              "    });\n",
              "    "
            ]
          },
          "metadata": {}
        },
        {
          "output_type": "display_data",
          "data": {
            "text/plain": [
              "<IPython.core.display.Javascript object>"
            ],
            "application/javascript": [
              "\n",
              "\n",
              "    var elementsToHide = document.querySelectorAll(\".display_data\");\n",
              "\n",
              "    elementsToHide.forEach(function(element) {\n",
              "        element.style.display = \"none\";\n",
              "    });\n",
              "    "
            ]
          },
          "metadata": {}
        },
        {
          "output_type": "display_data",
          "data": {
            "text/plain": [
              "<IPython.core.display.Javascript object>"
            ],
            "application/javascript": [
              "\n",
              "\n",
              "    var elementsToHide = document.querySelectorAll(\".display_data\");\n",
              "\n",
              "    elementsToHide.forEach(function(element) {\n",
              "        element.style.display = \"none\";\n",
              "    });\n",
              "    "
            ]
          },
          "metadata": {}
        },
        {
          "output_type": "display_data",
          "data": {
            "text/plain": [
              "<IPython.core.display.Javascript object>"
            ],
            "application/javascript": [
              "\n",
              "\n",
              "    var elementsToHide = document.querySelectorAll(\".display_data\");\n",
              "\n",
              "    elementsToHide.forEach(function(element) {\n",
              "        element.style.display = \"none\";\n",
              "    });\n",
              "    "
            ]
          },
          "metadata": {}
        }
      ],
      "source": [
        "from collections import deque\n",
        "from datetime import datetime\n",
        "\n",
        "# 啟動相機\n",
        "video_stream()\n",
        "label_html = '偵測中...'\n",
        "\n",
        "# 初始偵測框為空白\n",
        "label = 'awake'\n",
        "bbox = ''\n",
        "count = 0\n",
        "print('\\n'*30)\n",
        "\n",
        "# 設置時間雙端佇列\n",
        "time_deque = {}\n",
        "time_names = ['awake','drowsy']\n",
        "for id in time_names:\n",
        "  time_deque[id] = deque(maxlen = 64)\n",
        "\n",
        "# 初始化佇列\n",
        "time_deque['awake'].appendleft(datetime.now())\n",
        "time_deque['drowsy'].appendleft(datetime.now())\n",
        "\n",
        "# 初始化awake和drowsy時間\n",
        "delta_awake  = 0\n",
        "delta_drowsy = 0\n",
        "\n",
        "# 不要計算梯度可以減少RAM使用量並提高計算速度\n",
        "with torch.no_grad():\n",
        "  weights, imgsz = opt['weights'], (480,640)\n",
        "  set_logging()\n",
        "  device = select_device(opt['device'])\n",
        "  half = device.type != 'cpu'\n",
        "  model = attempt_load(weights, map_location=device)  # 讀取權重檔\n",
        "  stride = int(model.stride.max())  # 設為最大的stride 可使辨識過程加速\n",
        "\n",
        "  # 若是使用cpu執行，模型的權重參數以及輸入數據類型會轉換為半經度浮點數格式 可以減少模型的RAM占用和計算時間(但精準度可能會下降)\n",
        "  if half:\n",
        "    model.half()\n",
        "\n",
        "  # 確保在模型被放置在多GPU環境中和單GPU環境中，都能正確的獲取名稱\n",
        "  names = model.module.names if hasattr(model, 'module') else model.names\n",
        "  # 隨機製造顏色\n",
        "  colors = [[random.randint(0, 255) for _ in range(3)] for _ in names]\n",
        "  # 若不是使用cpu執行 創建了一個全零張量作為模型的輸入數據。張量的形狀是(一張 , 彩色 , rows, cloumns)\n",
        "  # 並且傳送給GPU 數據類型為模型的第一個參數的數據類型\n",
        "  if device.type != 'cpu':\n",
        "    model(torch.zeros(1, 3, imgsz[0], imgsz[1]).to(device).type_as(next(model.parameters())))\n",
        "  classes = None\n",
        "  if opt['classes']:\n",
        "    classes = []\n",
        "    for class_name in opt['classes']:\n",
        "\n",
        "      classes.append(names.index(class_name))\n",
        "\n",
        "  if classes:\n",
        "\n",
        "    classes = [i for i in range(len(names)) if i not in classes]\n",
        "\n",
        "  while True:\n",
        "    js_reply = video_frame(label_html, bbox)\n",
        "    if not js_reply:\n",
        "        break\n",
        "\n",
        "    img0 = js_to_image(js_reply[\"img\"])\n",
        "    bbox_array = np.zeros([480,640,4], dtype=np.uint8)\n",
        "    img = letterbox(img0, imgsz, stride=stride)[0]\n",
        "    # 將圖片從 (高度, 寬度, 通道數) 的格式轉換為 PyTorch 的 (通道數, 高度, 寬度) 格式，並將顏色通道從 RGB 調整為 BGR (::-1 就是顛倒)\n",
        "    img = img[:, :, ::-1].transpose(2, 0, 1)\n",
        "    # 確保了一個內存連續的array，確保數據的連續性和有效性\n",
        "    img = np.ascontiguousarray(img)\n",
        "    img = torch.from_numpy(img).to(device)\n",
        "    img = img.half() if half else img.float()\n",
        "    img /= 255.0\n",
        "    if img.ndimension() == 3:\n",
        "      img = img.unsqueeze(0)\n",
        "\n",
        "    # 預測\n",
        "    t1 = time_synchronized()\n",
        "    pred = model(img, augment= False)[0]\n",
        "\n",
        "    # 消除重複偵測，並保留準確度較高的結果\n",
        "    pred = non_max_suppression(pred, opt['conf-thres'], opt['iou-thres'], classes= classes, agnostic= False)\n",
        "    t2 = time_synchronized()\n",
        "    for i, det in enumerate(pred):\n",
        "      s = ''\n",
        "      # 將圖片的寬度和高度添加到字串s中\n",
        "      s += '%gx%g ' % img.shape[2:]\n",
        "      # 根據原始圖像 img0 的形狀，使用 [[1, 0, 1, 0]] 重新排列形狀中的維度 [[1, 0, 1, 0]] 的含義是將原始形狀 (height, width, channels) 中的維度重新排列為 (width, height, width, height)\n",
        "      gn = torch.tensor(img0.shape)[[1, 0, 1, 0]]\n",
        "      if len(det):\n",
        "        #對檢測到的目標框的坐標進行縮放，以便與原始圖像的尺寸相匹配\n",
        "        det[:, :4] = scale_coords(img.shape[2:], det[:, :4], img0.shape).round()\n",
        "\n",
        "        # det[:, -1] 表示檢測到的目標框的類別索引，.unique() 函數返回不重複的類別索引\n",
        "        for c in det[:, -1].unique():\n",
        "          n = (det[:, -1] == c).sum()  # 計算屬於當前類別 c 的檢測到的目標框的數量\n",
        "          s += f\"{n} {names[int(c)]}{'s' * (n > 1)}, \"\n",
        "\n",
        "        # 使用reversed抓取最後一個偵測框的 四個座標 準確度 類別\n",
        "        for *xyxy, conf, cls in reversed(det):\n",
        "\n",
        "          label = f'{names[int(cls)]} {conf:.2f}'\n",
        "          plot_one_box(xyxy, bbox_array, label=label, color=colors[int(cls)], line_thickness=3)\n",
        "\n",
        "    # 建立計時器及警報器\n",
        "    obj_name = label[0]\n",
        "    if obj_name == 'a':\n",
        "      if delta_drowsy != 0:\n",
        "        time_deque['awake'].clear()\n",
        "        delta_drowsy =0\n",
        "        time_deque['awake'].appendleft(datetime.now())\n",
        "\n",
        "      time_deque['awake'].popleft()\n",
        "      time_deque['awake'].appendleft(datetime.now())\n",
        "      delta_awake = (time_deque['awake'][0]-time_deque['drowsy'][-1]).total_seconds()\n",
        "    cv2.putText(bbox_array, 'awake(sec):'+str(round(delta_awake,2)), (10, 90), 5, 1, [0, 0, 255], thickness=1, lineType=cv2.LINE_AA)\n",
        "\n",
        "    if obj_name == 'd':\n",
        "      if delta_awake != 0:\n",
        "        time_deque['drowsy'].clear()\n",
        "        delta_awake =0\n",
        "        time_deque['drowsy'].appendleft(datetime.now())\n",
        "\n",
        "      time_deque['drowsy'].popleft()\n",
        "      time_deque['drowsy'].appendleft(datetime.now())\n",
        "      delta_drowsy = (time_deque['drowsy'][0]-time_deque['awake'][-1]).total_seconds()\n",
        "\n",
        "      if delta_drowsy >=2:\n",
        "          display(wn)\n",
        "          cv2.line(bbox_array, (170, 400), (470, 400), [255, 0, 0], 140)\n",
        "          cv2.putText(bbox_array, 'WAKE UP!!!', (190, 420), 5, 2, [225, 255, 255], thickness=2, lineType=cv2.LINE_AA)\n",
        "\n",
        "\n",
        "\n",
        "    cv2.putText(bbox_array, 'drowsy(sec):'+str(round(delta_drowsy,2)), (10, 110), 5, 1, [0, 0, 255], thickness=1, lineType=cv2.LINE_AA)\n",
        "    cv2.putText(bbox_array, 'alarm_time(sec):'+str(2), (10, 130), 5, 1, [0, 0, 255], thickness=1, lineType=cv2.LINE_AA)\n",
        "\n",
        "    # 沿著第三維度找尋最大的數組 若不是0(代表有偵測框)就*255 使數組變為0-255之間\n",
        "    bbox_array[:,:,3] = (bbox_array.max(axis = 2) > 0 ).astype(int) * 255\n",
        "    bbox_bytes = bbox_to_bytes(bbox_array)\n",
        "\n",
        "    bbox = bbox_bytes\n",
        "\n",
        "    #隱藏撥放音檔的Javascript(否則webcam會一直往下)\n",
        "    jss = Javascript('''\n",
        "\n",
        "    var elementsToHide = document.querySelectorAll(\".display_data\");\n",
        "\n",
        "    elementsToHide.forEach(function(element) {\n",
        "        element.style.display = \"none\";\n",
        "    });\n",
        "    ''')\n",
        "\n",
        "    #執行jss\n",
        "    display(jss)"
      ]
    }
  ],
  "metadata": {
    "colab": {
      "provenance": [],
      "gpuType": "T4"
    },
    "kernelspec": {
      "display_name": "Python 3",
      "name": "python3"
    },
    "language_info": {
      "name": "python"
    },
    "accelerator": "GPU"
  },
  "nbformat": 4,
  "nbformat_minor": 0
}